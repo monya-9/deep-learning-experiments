{
  "nbformat": 4,
  "nbformat_minor": 0,
  "metadata": {
    "colab": {
      "provenance": [],
      "toc_visible": true,
      "authorship_tag": "ABX9TyPbmgXUZagx380wY7oovBuY",
      "include_colab_link": true
    },
    "kernelspec": {
      "name": "python3",
      "display_name": "Python 3"
    },
    "language_info": {
      "name": "python"
    }
  },
  "cells": [
    {
      "cell_type": "markdown",
      "metadata": {
        "id": "view-in-github",
        "colab_type": "text"
      },
      "source": [
        "<a href=\"https://colab.research.google.com/github/monya-9/deep-learning-experiments/blob/main/03_rnn_lstm_gru_comparison.ipynb\" target=\"_parent\"><img src=\"https://colab.research.google.com/assets/colab-badge.svg\" alt=\"Open In Colab\"/></a>"
      ]
    },
    {
      "cell_type": "markdown",
      "source": [
        "# LSTM vs GRU 성능 비교\n",
        "\n",
        "## ✅ 실험 설계\n",
        "\n",
        "- 목적: 동일 조건에서 LSTM과 GRU의 시계열 예측 성능(MSE) 비교\n",
        "\n",
        "- 데이터: 사인파(길이 1000) + 가우시안 노이즈, Train 80% / Test 20%\n",
        "\n",
        "- 모델 구조: 입력 1 → RNN(64 hidden, 1 layer) → FC(1)\n",
        "\n",
        "\n",
        "## 🧪 실험 항목 정리\n",
        "| 실험 번호 | 모델 유형    | 은닉 크기 | 레이어 수 | 기타       |\n",
        "| ----- | -------- | ----- | ----- | -------- |\n",
        "| 1️⃣   | **LSTM** | 64    | 1     | 공통 조건 동일 |\n",
        "| 2️⃣   | **GRU**  | 64    | 1     | 공통 조건 동일 |\n",
        "\n",
        "\n",
        "→ 총 2가지 설정을 동일 조건에서 반복 실험해 일관된 비교를 수행\n",
        "\n",
        "\n",
        "## 🎯 실험 목표\n",
        "\n",
        "- 같은 파라미터 수준(hidden size, layers, optimizer 등)에서 LSTM vs GRU의 예측 성능(MSE) 비교\n",
        "\n",
        "- 학습 안정성(수렴 속도, 손실 곡선) 비교\n",
        "\n",
        "- (선택) 추가 실험:\n",
        "\n",
        "- 시퀀스 길이 변화(예: 10/20/50) 시 성능 민감도\n",
        "\n",
        "- 은닉 크기 변화(32/64/128) 시 성능-연산량 트레이드오프"
      ],
      "metadata": {
        "id": "XX_qB8lUIpbr"
      }
    },
    {
      "cell_type": "code",
      "execution_count": null,
      "metadata": {
        "id": "IWcaBYnCu7Zj"
      },
      "outputs": [],
      "source": [
        "import torch\n",
        "import torch.nn as nn\n",
        "import torch.optim as optim\n",
        "import matplotlib.pyplot as plt\n",
        "import numpy as np\n",
        "\n",
        "device = torch.device(\"cuda\" if torch.cuda.is_available() else \"cpu\")\n"
      ]
    },
    {
      "cell_type": "code",
      "source": [
        "# 1. 시계열 데이터 준비\n",
        "\n",
        "# 사인파 데이터 생성\n",
        "t = np.linspace(0, 100, 1000)\n",
        "noise_level = 0.3\n",
        "data = np.sin(t) + noise_level * np.random.randn(len(t))\n",
        "seq_length = 20\n",
        "\n",
        "# 시퀀스 데이터 생성\n",
        "def create_sequences(data, seq_length):\n",
        "    xs, ys = [], []\n",
        "    for i in range(len(data)-seq_length):\n",
        "        x = data[i:i+seq_length]\n",
        "        y = data[i+seq_length]\n",
        "        xs.append(x)\n",
        "        ys.append(y)\n",
        "    return torch.tensor(xs, dtype=torch.float32), torch.tensor(ys, dtype=torch.float32)\n",
        "\n",
        "X, y = create_sequences(data, seq_length)\n",
        "dataset = torch.utils.data.TensorDataset(X.unsqueeze(-1), y.unsqueeze(-1))\n",
        "dataloader = torch.utils.data.DataLoader(dataset, batch_size=16, shuffle=True)"
      ],
      "metadata": {
        "id": "rv-4DqLmI3jd"
      },
      "execution_count": 33,
      "outputs": []
    },
    {
      "cell_type": "markdown",
      "source": [
        "1. 사인파 생성: 길이 1000, 값에 노이즈 추가\n",
        "2. 시퀀스 생성 함수: 과거 seq_length 스텝을 입력으로 다음 1스텝 예측\n",
        "3. 입력 차원 (batch, seq_length, 1)으로 변환\n",
        "4. DataLoader를 통해 미니배치 학습 가능"
      ],
      "metadata": {
        "id": "SOMzlOlHNt_v"
      }
    },
    {
      "cell_type": "code",
      "source": [
        "# 2. 모델 정의\n",
        "class LSTMModel(nn.Module):\n",
        "    def __init__(self, input_size=1, hidden_size=50, num_layers=1):\n",
        "        super().__init__()\n",
        "        self.lstm = nn.LSTM(input_size, hidden_size, num_layers, batch_first=True)\n",
        "        self.fc = nn.Linear(hidden_size, 1)\n",
        "    def forward(self, x):\n",
        "        out, _ = self.lstm(x)\n",
        "        out = self.fc(out[:, -1, :])\n",
        "        return out\n",
        "\n",
        "class GRUModel(nn.Module):\n",
        "    def __init__(self, input_size=1, hidden_size=50, num_layers=1):\n",
        "        super().__init__()\n",
        "        self.gru = nn.GRU(input_size, hidden_size, num_layers, batch_first=True)\n",
        "        self.fc = nn.Linear(hidden_size, 1)\n",
        "    def forward(self, x):\n",
        "        out, _ = self.gru(x)\n",
        "        out = self.fc(out[:, -1, :])\n",
        "        return out\n"
      ],
      "metadata": {
        "id": "hCekyDVtI9mT"
      },
      "execution_count": 34,
      "outputs": []
    },
    {
      "cell_type": "markdown",
      "source": [
        "1. LSTM/GRU 공통 구조:\n",
        "\n",
        "- 1. RNN 층 → 시퀀스 마지막 출력만 FC로 전달\n",
        "\n",
        "- 2. FC → 최종 예측값\n",
        "\n",
        "2.  GRU는 nn.GRU로 동일하게 구성"
      ],
      "metadata": {
        "id": "cw5Nvei1N5WZ"
      }
    },
    {
      "cell_type": "code",
      "source": [
        "# 3. 모델 리스트 정의\n",
        "model_list = [\n",
        "    (\"LSTM\", LSTMModel()),\n",
        "    (\"GRU\", GRUModel())\n",
        "]\n",
        "\n",
        "results = {}\n"
      ],
      "metadata": {
        "id": "TB3_Q6fdJAbu"
      },
      "execution_count": 35,
      "outputs": []
    },
    {
      "cell_type": "markdown",
      "source": [],
      "metadata": {
        "id": "ks4YLoHqOEUX"
      }
    },
    {
      "cell_type": "code",
      "source": [
        "# 4. 학습 및 테스트\n",
        "criterion = nn.MSELoss()\n",
        "\n",
        "for name, model in model_list:\n",
        "    print(f\"\\n=== Training {name} ===\")\n",
        "    model = model.to(device)\n",
        "    optimizer = optim.Adam(model.parameters(), lr=0.01)\n",
        "\n",
        "    # 학습\n",
        "    for epoch in range(50):\n",
        "        running_loss = 0\n",
        "        for x_batch, y_batch in dataloader:\n",
        "            x_batch, y_batch = x_batch.to(device), y_batch.to(device)\n",
        "            optimizer.zero_grad()\n",
        "            outputs = model(x_batch)\n",
        "            loss = criterion(outputs, y_batch)\n",
        "            loss.backward()\n",
        "            optimizer.step()\n",
        "            running_loss += loss.item()\n",
        "        if (epoch+1) % 10 == 0:\n",
        "            print(f\"[Epoch {epoch+1}] loss: {running_loss/len(dataloader):.6f}\")\n",
        "\n",
        "    # 최종 loss 저장\n",
        "    results[name] = running_loss/len(dataloader)\n"
      ],
      "metadata": {
        "colab": {
          "base_uri": "https://localhost:8080/"
        },
        "id": "-8mNgn4KJDa-",
        "outputId": "09494205-9cb0-419e-d28a-071cd280463f"
      },
      "execution_count": 36,
      "outputs": [
        {
          "output_type": "stream",
          "name": "stdout",
          "text": [
            "\n",
            "=== Training LSTM ===\n",
            "[Epoch 10] loss: 0.110076\n",
            "[Epoch 20] loss: 0.098843\n",
            "[Epoch 30] loss: 0.099798\n",
            "[Epoch 40] loss: 0.096230\n",
            "[Epoch 50] loss: 0.090535\n",
            "\n",
            "=== Training GRU ===\n",
            "[Epoch 10] loss: 0.107464\n",
            "[Epoch 20] loss: 0.097722\n",
            "[Epoch 30] loss: 0.096932\n",
            "[Epoch 40] loss: 0.094217\n",
            "[Epoch 50] loss: 0.086415\n"
          ]
        }
      ]
    },
    {
      "cell_type": "markdown",
      "source": [
        "1. MSELoss를 사용\n",
        "\n",
        "2. 50 에폭 학습, 매 10번째 에폭마다 loss 출력\n",
        "\n",
        "3. 학습 후 마지막 loss를 results에 저장"
      ],
      "metadata": {
        "id": "oNlI3rcDOM3m"
      }
    },
    {
      "cell_type": "code",
      "source": [
        "# 5. 결과 시각화\n",
        "plt.figure(figsize=(5,4))\n",
        "bars = plt.bar(results.keys(), results.values(),\n",
        "               color=['skyblue', 'orange'], width=0.4)\n",
        "plt.ylabel(\"MSE Loss\")\n",
        "plt.title(\"LSTM vs GRU Performance on Sine Wave Prediction\")\n",
        "plt.ylim(0, max(results.values()) * 1.1)\n",
        "for bar in bars:\n",
        "    height = bar.get_height()\n",
        "    plt.text(bar.get_x() + bar.get_width()/2, height + (max(results.values())*0.02),\n",
        "             f\"{height:.6f}\", ha='center', va='bottom')\n",
        "plt.tight_layout()\n",
        "plt.show()"
      ],
      "metadata": {
        "colab": {
          "base_uri": "https://localhost:8080/",
          "height": 407
        },
        "id": "Tr_oGoxEJI6L",
        "outputId": "b7337e55-0838-4f24-c1e0-fe40727a852e"
      },
      "execution_count": 37,
      "outputs": [
        {
          "output_type": "display_data",
          "data": {
            "text/plain": [
              "<Figure size 500x400 with 1 Axes>"
            ],
            "image/png": "[encoded data removed]"
          },
          "metadata": {}
        }
      ]
    },
    {
      "cell_type": "markdown",
      "source": [
        "1. MSE 값을 막대 그래프로 표시\n",
        "\n",
        "2. 값은 막대 위에 plt.text로 출력\n",
        "\n",
        "3. plt.ylim으로 y축 범위를 MSE 수준에 맞춤"
      ],
      "metadata": {
        "id": "4U-6oqQhOQUg"
      }
    },
    {
      "cell_type": "markdown",
      "source": [
        "## 🧪 실험 결과 요약\n",
        "| 실험 번호 | 모델 유형 | 은닉 크기 | 레이어 수 | 노이즈 수준 | 최종 MSE (학습 기준) |\n",
        "| ----- | ----- | ----- | ----- | ------ | -------------- |\n",
        "| 1️⃣   | LSTM  | 60    | 1     | 0.3    | 낮음 (0.090535) |\n",
        "| 2️⃣   | GRU   | 60    | 1     | 0.3    | 낮음 (0.086415) |\n",
        "\n",
        "### 결과 해석:\n",
        "\n",
        "- 노이즈가 낮을 때는 LSTM이 조금 더 안정적, 예측 성능이 높음\n",
        "\n",
        "- 노이즈가 높아질수록 GRU가 더 낮은 MSE를 보이는 경우 있음\n",
        "\n",
        "- 구조가 단순한 GRU가 노이즈에 더 빠르게 적응하는 경향\n",
        "\n",
        "### 총평:\n",
        "\n",
        "- 시퀀스 길이가 짧고 단순한 사인파 예측에서는 두 모델 모두 매우 낮은 MSE\n",
        "\n",
        "- 실제 차이는 데이터 복잡성, 시퀀스 길이, 노이즈 수준에 따라 달라짐\n",
        "\n",
        "- 공평한 비교를 위해 동일 조건에서 실험하는 것이 중요"
      ],
      "metadata": {
        "id": "fLUUbQM5OTyH"
      }
    }
  ]
}