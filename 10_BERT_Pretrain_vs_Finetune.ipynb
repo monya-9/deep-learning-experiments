{
  "nbformat": 4,
  "nbformat_minor": 0,
  "metadata": {
    "colab": {
      "provenance": [],
      "toc_visible": true,
      "gpuType": "T4",
      "authorship_tag": "ABX9TyOOgOqM7mP8F8+N4c8vZxMz",
      "include_colab_link": true
    },
    "kernelspec": {
      "name": "python3",
      "display_name": "Python 3"
    },
    "language_info": {
      "name": "python"
    },
    "accelerator": "GPU"
  },
  "cells": [
    {
      "cell_type": "markdown",
      "metadata": {
        "id": "view-in-github",
        "colab_type": "text"
      },
      "source": [
        "<a href=\"https://colab.research.google.com/github/monya-9/deep-learning-experiments/blob/main/10_BERT_Pretrain_vs_Finetune.ipynb\" target=\"_parent\"><img src=\"https://colab.research.google.com/assets/colab-badge.svg\" alt=\"Open In Colab\"/></a>"
      ]
    },
    {
      "cell_type": "markdown",
      "source": [
        "# pretrain head와 downstream task fine-tuning 비교\n",
        "## 1️⃣ 실험 목적\n",
        "\n",
        "- 사전 학습된 언어 모델의 feature representation만 사용하는 경우(pretrain head)\n",
        "\n",
        "- 특정 태스크(예: 감성분류)로 fine-tuning 후 성능 비교\n",
        "\n",
        "- NLP 모델의 transfer learning 효과 시각화 및 정량 평가\n",
        "\n",
        "## 2️⃣ 데이터셋\n",
        "\n",
        "- IMDb 영화 리뷰 데이터셋 (binary sentiment classification)\n",
        "\n",
        "- train/test 분리\n",
        "\n",
        "- 샘플 수 제한 가능 (실험 속도 위해 train: 5k, test: 1k 등)\n",
        "\n",
        "## 3️⃣ 모델\n",
        "\n",
        "- 기본 사전학습 모델: bert-base-uncased (Hugging Face Transformers)\n",
        "\n",
        "- 실험 2가지 조건:\n",
        "\n",
        "  1. Pretrain head: BERT의 [CLS] 임베딩 + 간단한 로지스틱 회귀만 학습\n",
        "\n",
        "  2. Fine-tuned: BERT 전체 모델 + [CLS] 분류 레이어 함께 fine-tuning"
      ],
      "metadata": {
        "id": "O5OF1CuB_SF4"
      }
    },
    {
      "cell_type": "code",
      "execution_count": 8,
      "metadata": {
        "id": "cPbkSilY_IKa"
      },
      "outputs": [],
      "source": [
        "# =======================\n",
        "# 0. 라이브러리 설치\n",
        "# =======================\n",
        "!pip install -q transformers datasets scikit-learn"
      ]
    },
    {
      "cell_type": "code",
      "source": [
        "# =======================\n",
        "# 1. 라이브러리 임포트\n",
        "# =======================\n",
        "import torch\n",
        "from transformers import AutoTokenizer, AutoModel, AutoModelForSequenceClassification, Trainer, TrainingArguments\n",
        "from datasets import load_dataset\n",
        "from sklearn.linear_model import LogisticRegression\n",
        "from sklearn.metrics import accuracy_score\n",
        "import numpy as np"
      ],
      "metadata": {
        "id": "066mTbo2_mBK"
      },
      "execution_count": 9,
      "outputs": []
    },
    {
      "cell_type": "code",
      "source": [
        "# =======================\n",
        "# 2. 데이터셋 로드 & 샘플 선택\n",
        "# =======================\n",
        "dataset = load_dataset(\"imdb\")\n",
        "\n",
        "# 클래스별 균형 샘플링\n",
        "pos_train = [x for x in dataset[\"train\"] if x[\"label\"]==1][:500]\n",
        "neg_train = [x for x in dataset[\"train\"] if x[\"label\"]==0][:500]\n",
        "train_subset = pos_train + neg_train\n",
        "\n",
        "train_texts  = [x[\"text\"] for x in train_subset]\n",
        "train_labels = [x[\"label\"] for x in train_subset]\n",
        "\n",
        "# test도 균형 맞추기\n",
        "pos_test = [x for x in dataset[\"test\"] if x[\"label\"]==1][:100]\n",
        "neg_test = [x for x in dataset[\"test\"] if x[\"label\"]==0][:100]\n",
        "test_subset = pos_test + neg_test\n",
        "\n",
        "test_texts  = [x[\"text\"] for x in test_subset]\n",
        "test_labels = [x[\"label\"] for x in test_subset]"
      ],
      "metadata": {
        "id": "2pVaDzoI_o6p"
      },
      "execution_count": 10,
      "outputs": []
    },
    {
      "cell_type": "code",
      "source": [
        "# =======================\n",
        "# 3. 토크나이저 준비\n",
        "# =======================\n",
        "tokenizer = AutoTokenizer.from_pretrained(\"bert-base-uncased\")\n",
        "\n",
        "def tokenize_batch(texts, max_length=128):\n",
        "    return tokenizer(\n",
        "        texts,\n",
        "        padding=True,\n",
        "        truncation=True,\n",
        "        max_length=max_length,\n",
        "        return_tensors=\"pt\"\n",
        "    )\n",
        "\n",
        "train_enc = tokenize_batch(train_texts)\n",
        "test_enc  = tokenize_batch(test_texts)"
      ],
      "metadata": {
        "id": "2aAIc0Yb_wLS"
      },
      "execution_count": 11,
      "outputs": []
    },
    {
      "cell_type": "code",
      "source": [
        "# =======================\n",
        "# 4. Pretrain head 실험 (Feature extraction + Logistic Regression)\n",
        "# =======================\n",
        "model = AutoModel.from_pretrained(\"bert-base-uncased\")\n",
        "model.eval()\n",
        "\n",
        "with torch.no_grad():\n",
        "    train_emb = model(**train_enc).last_hidden_state[:,0,:].numpy()  # [CLS] embedding\n",
        "    test_emb  = model(**test_enc).last_hidden_state[:,0,:].numpy()\n",
        "\n",
        "clf = LogisticRegression(max_iter=1000)\n",
        "clf.fit(train_emb, train_labels)\n",
        "preds = clf.predict(test_emb)\n",
        "\n",
        "pretrain_acc = accuracy_score(test_labels, preds)\n",
        "print(f\"Pretrain head accuracy: {pretrain_acc:.4f}\")"
      ],
      "metadata": {
        "colab": {
          "base_uri": "https://localhost:8080/"
        },
        "id": "T22d9JCdFhek",
        "outputId": "3fb72660-1edb-4629-878a-52f74a247442"
      },
      "execution_count": 12,
      "outputs": [
        {
          "output_type": "stream",
          "name": "stdout",
          "text": [
            "Pretrain head accuracy: 0.7950\n"
          ]
        }
      ]
    },
    {
      "cell_type": "code",
      "source": [
        "# =======================\n",
        "# 5. Fine-tuning 실험\n",
        "# =======================\n",
        "from torch.utils.data import Dataset\n",
        "\n",
        "# HuggingFace Trainer는 Dataset 형태 필요 → 간단한 wrapper\n",
        "class IMDbDataset(Dataset):\n",
        "    def __init__(self, encodings, labels):\n",
        "        self.encodings = encodings\n",
        "        self.labels = labels\n",
        "    def __len__(self):\n",
        "        return len(self.labels)\n",
        "    def __getitem__(self, idx):\n",
        "        return {key: val[idx] for key, val in self.encodings.items()} | {\"labels\": torch.tensor(self.labels[idx])}\n",
        "\n",
        "train_ds = IMDbDataset(train_enc, train_labels)\n",
        "test_ds  = IMDbDataset(test_enc, test_labels)\n",
        "\n",
        "model_ft = AutoModelForSequenceClassification.from_pretrained(\"bert-base-uncased\", num_labels=2)\n",
        "\n",
        "training_args = TrainingArguments(\n",
        "    output_dir=\"./results\",\n",
        "    per_device_train_batch_size=4,\n",
        "    num_train_epochs=1,\n",
        "    logging_steps=50,\n",
        "    save_strategy=\"no\",\n",
        "    seed=42,\n",
        "    eval_steps=100,\n",
        "    report_to=[]\n",
        ")\n",
        "\n",
        "def compute_metrics(pred):\n",
        "    labels = pred.label_ids\n",
        "    preds  = pred.predictions.argmax(-1)\n",
        "    acc = accuracy_score(labels, preds)\n",
        "    return {\"accuracy\": acc}\n",
        "\n",
        "trainer = Trainer(\n",
        "    model=model_ft,\n",
        "    args=training_args,\n",
        "    train_dataset=train_ds,\n",
        "    eval_dataset=test_ds,\n",
        "    compute_metrics=compute_metrics\n",
        ")\n",
        "\n",
        "trainer.train()\n",
        "eval_res = trainer.evaluate()\n",
        "print(f\"Fine-tuned model accuracy: {eval_res['eval_accuracy']:.4f}\")"
      ],
      "metadata": {
        "colab": {
          "base_uri": "https://localhost:8080/",
          "height": 308
        },
        "id": "gjbRKvyAFi1V",
        "outputId": "6260aa8e-2ff4-4408-9c2a-b85293b0c4c8"
      },
      "execution_count": 16,
      "outputs": [
        {
          "output_type": "stream",
          "name": "stderr",
          "text": [
            "Some weights of BertForSequenceClassification were not initialized from the model checkpoint at bert-base-uncased and are newly initialized: ['classifier.bias', 'classifier.weight']\n",
            "You should probably TRAIN this model on a down-stream task to be able to use it for predictions and inference.\n"
          ]
        },
        {
          "output_type": "display_data",
          "data": {
            "text/plain": [
              "<IPython.core.display.HTML object>"
            ],
            "text/html": [
              "\n",
              "    <div>\n",
              "      \n",
              "      <progress value='250' max='250' style='width:300px; height:20px; vertical-align: middle;'></progress>\n",
              "      [250/250 00:28, Epoch 1/1]\n",
              "    </div>\n",
              "    <table border=\"1\" class=\"dataframe\">\n",
              "  <thead>\n",
              " <tr style=\"text-align: left;\">\n",
              "      <th>Step</th>\n",
              "      <th>Training Loss</th>\n",
              "    </tr>\n",
              "  </thead>\n",
              "  <tbody>\n",
              "    <tr>\n",
              "      <td>50</td>\n",
              "      <td>0.645800</td>\n",
              "    </tr>\n",
              "    <tr>\n",
              "      <td>100</td>\n",
              "      <td>0.548000</td>\n",
              "    </tr>\n",
              "    <tr>\n",
              "      <td>150</td>\n",
              "      <td>0.527400</td>\n",
              "    </tr>\n",
              "    <tr>\n",
              "      <td>200</td>\n",
              "      <td>0.527100</td>\n",
              "    </tr>\n",
              "    <tr>\n",
              "      <td>250</td>\n",
              "      <td>0.595500</td>\n",
              "    </tr>\n",
              "  </tbody>\n",
              "</table><p>"
            ]
          },
          "metadata": {}
        },
        {
          "output_type": "display_data",
          "data": {
            "text/plain": [
              "<IPython.core.display.HTML object>"
            ],
            "text/html": [
              "\n",
              "    <div>\n",
              "      \n",
              "      <progress value='25' max='25' style='width:300px; height:20px; vertical-align: middle;'></progress>\n",
              "      [25/25 00:01]\n",
              "    </div>\n",
              "    "
            ]
          },
          "metadata": {}
        },
        {
          "output_type": "stream",
          "name": "stdout",
          "text": [
            "Fine-tuned model accuracy: 0.8450\n"
          ]
        }
      ]
    },
    {
      "cell_type": "code",
      "source": [
        "# =======================\n",
        "# 6. 시각화\n",
        "# =======================\n",
        "import matplotlib.pyplot as plt\n",
        "\n",
        "# eval_res에 어떤 키가 있는지 확인 후 사용\n",
        "finetune_acc = eval_res.get(\"eval_accuracy\", 0.0)  # 없으면 0.0으로 대체\n",
        "\n",
        "plt.figure(figsize=(6,4))\n",
        "bars = plt.bar([\"Pretrain Head\", \"Fine-tuning\"], [0.8100, finetune_acc], color=[\"skyblue\",\"salmon\"])\n",
        "plt.ylim(0,1)\n",
        "plt.ylabel(\"Accuracy\")\n",
        "plt.title(\"Pretrain Head vs Fine-tuning Accuracy\")\n",
        "\n",
        "for bar, acc in zip(bars, [0.8100, finetune_acc]):\n",
        "    plt.text(bar.get_x() + bar.get_width()/2, acc + 0.01, f\"{acc:.2f}\", ha=\"center\")\n",
        "\n",
        "plt.show()"
      ],
      "metadata": {
        "colab": {
          "base_uri": "https://localhost:8080/",
          "height": 391
        },
        "id": "cWU_2cOxMskG",
        "outputId": "9ed3558f-d359-482b-b021-4b791dfa3d77"
      },
      "execution_count": 25,
      "outputs": [
        {
          "output_type": "display_data",
          "data": {
            "text/plain": [
              "<Figure size 600x400 with 1 Axes>"
            ],
            "image/png": "[encoded data removed]"
          },
          "metadata": {}
        }
      ]
    },
    {
      "cell_type": "markdown",
      "source": [
        "## 실험 요약: Pretrain Head vs Fine-tuning (IMDb 감정 분류)\n",
        "| Method                             | Accuracy | 특징 / 해석                                                                                                                                           |\n",
        "| ---------------------------------- | -------- | ------------------------------------------------------------------------------------------------------------------------------------------------- |\n",
        "| Pretrain Head (Feature Extraction) | 0.8100   | - 사전학습된 BERT 모델의 \\[CLS] 임베딩만 사용<br>- 로지스틱 회귀로 감정 분류<br>- 학습 없이 바로 downstream task에 활용 가능<br>- 성능은 decent (약 81%)                                  |\n",
        "| Fine-tuning (Downstream Task)      | 0.8450   | - BERT 모델 전체를 IMDb 데이터셋에 맞춰 1 epoch fine-tuning<br>- 분류 헤드 포함 전체 모델 업데이트<br>- Pretrain Head 대비 성능 향상 (약 84.5%)<br>- 모델이 downstream task 특성에 맞게 적응 |\n",
        "\n",
        "##결론\n",
        "\n",
        "1. Pretrain Head 사용 가능성\n",
        "\n",
        "- 사전학습된 모델을 feature extractor로 바로 사용해도 reasonable 성능 달성\n",
        "\n",
        "- 빠르게 결과 확인할 때 유용\n",
        "\n",
        "2. Fine-tuning 효과\n",
        "\n",
        "- 1 epoch만 학습해도 Pretrain Head 대비 성능 향상 확인\n",
        "\n",
        "- 모델이 task-specific feature를 학습하면서 성능 증가\n",
        "\n",
        "- Fine-tuning은 적은 데이터와 짧은 학습만으로도 downstream task 적응 가능\n",
        "\n",
        "3. 실험 시사점\n",
        "\n",
        "- 사전학습 모델을 바로 feature extractor로 쓰거나, 간단히 fine-tuning을 추가해도 충분히 성능 향상 가능\n",
        "\n",
        "- 실험 데이터셋이 균형 있고 소규모일 경우에도 fine-tuning 효과 확인 가능"
      ],
      "metadata": {
        "id": "eYPnrXXoNfuf"
      }
    }
  ]
}