{
  "nbformat": 4,
  "nbformat_minor": 0,
  "metadata": {
    "colab": {
      "provenance": [],
      "authorship_tag": "ABX9TyNhM4WMG/Kfx6zX8XbD56jS",
      "include_colab_link": true
    },
    "kernelspec": {
      "name": "python3",
      "display_name": "Python 3"
    },
    "language_info": {
      "name": "python"
    }
  },
  "cells": [
    {
      "cell_type": "markdown",
      "metadata": {
        "id": "view-in-github",
        "colab_type": "text"
      },
      "source": [
        "<a href=\"https://colab.research.google.com/github/monya-9/deep-learning-experiments/blob/main/13_FineTuning_vs_PEFT.ipynb\" target=\"_parent\"><img src=\"https://colab.research.google.com/assets/colab-badge.svg\" alt=\"Open In Colab\"/></a>"
      ]
    },
    {
      "cell_type": "markdown",
      "source": [
        "# 일반 fine-tuning vs PEFT 비교 실험\n",
        "\n",
        "## 1. 실험 목적\n",
        "\n",
        "- 일반 Fine-tuning과 PEFT 기법의 성능 차이를 비교\n",
        "\n",
        "- PEFT를 사용하면 파라미터 일부만 학습 → 학습 속도, 메모리 효율, 성능 trade-off 확인\n",
        "\n",
        "- NLP downstream task에서 PEFT 활용 가능성을 평가\n",
        "\n",
        "## 2. 실험 설계\n",
        "\n",
        "- 데이터셋: IMDb 영화 리뷰 (이진 감정 분류)\n",
        "\n",
        "- 모델: bert-base-uncased\n",
        "\n",
        "- 실험 조건:\n",
        "\n",
        "  1. Full Fine-tuning: 전체 모델 파라미터 학습\n",
        "\n",
        "  2. PEFT (LoRA / Adapter / Prefix-tuning 등): 일부 파라미터만 학습\n",
        "\n",
        "- 학습 환경: GPU/Colab, batch size 816, epoch 13 (실험용)\n",
        "\n",
        "- 평가 지표: Accuracy, F1-score\n",
        "\n",
        "- 시각화: Accuracy/F1-bar plot, 학습 시간 비교"
      ],
      "metadata": {
        "id": "0nAZ44UcDPVR"
      }
    },
    {
      "cell_type": "code",
      "source": [
        "# =======================\n",
        "# 0. 라이브러리 설치\n",
        "# =======================\n",
        "!pip install -q transformers datasets peft accelerate scikit-learn"
      ],
      "metadata": {
        "id": "pBm1FIuYJK9v"
      },
      "execution_count": null,
      "outputs": []
    },
    {
      "cell_type": "code",
      "source": [
        "# =======================\n",
        "# 1. 라이브러리\n",
        "# =======================\n",
        "import torch\n",
        "from transformers import AutoTokenizer, AutoModelForSequenceClassification, Trainer, TrainingArguments\n",
        "from datasets import load_dataset\n",
        "from sklearn.metrics import accuracy_score, f1_score\n",
        "import matplotlib.pyplot as plt\n",
        "import numpy as np\n",
        "\n",
        "# PEFT 관련\n",
        "from peft import LoraConfig, get_peft_model"
      ],
      "metadata": {
        "id": "xulJcBplKOiG"
      },
      "execution_count": null,
      "outputs": []
    },
    {
      "cell_type": "code",
      "source": [
        "# ===========================\n",
        "# 2. 데이터셋 로딩 및 샘플링\n",
        "# ===========================\n",
        "dataset = load_dataset(\"imdb\")\n",
        "\n",
        "# 클래스 균형 맞춘 소규모 샘플링\n",
        "pos_train = [x for x in dataset[\"train\"] if x[\"label\"]==1][:500]\n",
        "neg_train = [x for x in dataset[\"train\"] if x[\"label\"]==0][:500]\n",
        "train_subset = pos_train + neg_train\n",
        "\n",
        "train_texts  = [x[\"text\"] for x in train_subset]\n",
        "train_labels = [x[\"label\"] for x in train_subset]\n",
        "\n",
        "pos_test = [x for x in dataset[\"test\"] if x[\"label\"]==1][:100]\n",
        "neg_test = [x for x in dataset[\"test\"] if x[\"label\"]==0][:100]\n",
        "test_subset = pos_test + neg_test\n",
        "\n",
        "test_texts  = [x[\"text\"] for x in test_subset]\n",
        "test_labels = [x[\"label\"] for x in test_subset]"
      ],
      "metadata": {
        "colab": {
          "base_uri": "https://localhost:8080/",
          "height": 241,
          "referenced_widgets": [
            "d337eb0d0bd3447aa8c9baa844778eae",
            "c92504516c3742afb82f96b3021eeead",
            "a2c486d757aa4059afe7bb9d0964d897",
            "b7246e6caa49466b9eb33e839aef99fc",
            "fd49d705bdee49729eb4de0bcac68966",
            "938ad878dab84ca2be21bac5d926b20b",
            "5806686e62314cd799639484ca31a205",
            "79d41a3763ce407086b972f836e29c01",
            "ea5ea055057d454489dbac05eb9ef7d1",
            "92a4a634695c492287682a78dcad9fc9",
            "6d6303c4f7034501bd96473911db0d3e",
            "a5c5f7eaeb02471c864ebe71e4e8e754",
            "90140055a1264ee78ad2120b2b0ea51e",
            "ac0c164381734bee8816f4a2d7501cdc",
            "938d3905027c4f58a534421eeff87158",
            "46dbb171dd2d47ab9e5ac38c5c0f3c21",
            "99996616ce104d82a6f16142da15be00",
            "08526feb998c48a58b2de0e72efb0c62",
            "61540665acd6466587d4495e5212bfd0",
            "381cc0b65b9849f99ab927d5d720279c",
            "fa2f556f74f74862b7c30b62a6e35f87",
            "7b3894fe7cbe49a4957e7423938559fe",
            "7f1e840348874f3da472be29ff4fefcc",
            "ae8dc69971094cea83b4e1d256561d4b",
            "2e3369633d204ec198b0aa6fe01c9815",
            "82dd63beeb054245899c786730ab1b2a",
            "724ad387c6664fbaa1c4a9e112b76487",
            "8ded1729048c447ebbec4ee298473bb1",
            "e6bbfe986226459eacec0b0079e41fc9",
            "d0337ed7bb154dd8b2638e9ed50a0989",
            "a5cf3dc16cda433cb401fbfd7bee87a3",
            "cbe6faf95e4d4702966c4c59e5d258b5",
            "754d54235f7c4ee59f34ade74e67b87d",
            "72c8eb1996c94f6b981688d064538da2",
            "132a345450ad4439b29f2c5b96aaf509",
            "c8effa624d2c4024992b9f2382e014d9",
            "614e1df88d1342f081c26fe9f57adae2",
            "da07c74cc1f7426b8f614980df629a07",
            "9e2db551071f49bab248334130f94165",
            "2633f1927cfb4dc0afabfab6730c4754",
            "45fde113bf854a969b68fd36694fda24",
            "47974f5830c1443286833789a800395e",
            "43907ec44bc244b49aa0393b309d232f",
            "056ebdaf4d4047b79f88d776cecc6329",
            "ff2646a4da6b490dadb172803e6f3e1e",
            "f31243a5650041e19574c011581f9dd0",
            "145afd6a6af644799fe47443abbc6dd1",
            "c86c8ec11e3f4066912fce54df44774a",
            "2ab0cc0859784aa5ab14aa8ba9c6065b",
            "a892524052704158bc12d322388a3bf6",
            "b08075b85a7b498998ad51a0ef21efef",
            "f686414b83bd48b7bc3a17b276fbfe7d",
            "8c1c8a6625bd42eaaaec6d6bece79a93",
            "59cecb14098c47c1b2565a5e0dcf71f2",
            "7f9304ce2f0540abb9cb96b4c652c244",
            "815b2f3006e443b1af18362938620040",
            "29e56f80379940289067a6760219fa4a",
            "695a30f1f9ec41f4bfe62fd00f140d62",
            "ceed9569c26945dabf117736f364df24",
            "0e2d95c722b74cdda4e4d719e07d1b3a",
            "52c80a9975f9475f86e642cd74b9ed93",
            "a127c082bafa41dd82fe1317b52a5fa6",
            "8660174d556f4268b5c8f5553b778e25",
            "1c0a152efe804767b124a3abd5d01076",
            "ccf93aeeab894ddda00ee6cc3b1582e2",
            "6fbe5309ec0d44119f8ae90ea5b2b486",
            "8ce98f29753449919466572370b05c8f",
            "c7faeac2daea480ba00ede7bde0ea816",
            "52f383a3b16d47499c6af5b8392fade3",
            "9e8676642e904d158719daa06d22f63a",
            "3e0bbf6f467644a98a44439ab8455153",
            "745d9364f5cd4382ad16e456725b27e0",
            "d81e08856080492c957aa29d363ad05f",
            "54495353dded416bb2a1c61c81ccf2c4",
            "93bbe98fd18540719d6635777b984a71",
            "d2ca70a4ffb242b1b21c4cde7dd5faea",
            "d210aaf7442946ae8a8ea8f8e69a238e"
          ]
        },
        "id": "9q3oE4KXKQ_O",
        "outputId": "e6f0f31b-f1bf-4da7-edc9-dbeca263e6bb"
      },
      "execution_count": null,
      "outputs": [
        {
          "output_type": "display_data",
          "data": {
            "text/plain": [
              "README.md: 0.00B [00:00, ?B/s]"
            ],
            "application/vnd.jupyter.widget-view+json": {
              "version_major": 2,
              "version_minor": 0,
              "model_id": "d337eb0d0bd3447aa8c9baa844778eae"
            }
          },
          "metadata": {}
        },
        {
          "output_type": "display_data",
          "data": {
            "text/plain": [
              "plain_text/train-00000-of-00001.parquet:   0%|          | 0.00/21.0M [00:00<?, ?B/s]"
            ],
            "application/vnd.jupyter.widget-view+json": {
              "version_major": 2,
              "version_minor": 0,
              "model_id": "a5c5f7eaeb02471c864ebe71e4e8e754"
            }
          },
          "metadata": {}
        },
        {
          "output_type": "display_data",
          "data": {
            "text/plain": [
              "plain_text/test-00000-of-00001.parquet:   0%|          | 0.00/20.5M [00:00<?, ?B/s]"
            ],
            "application/vnd.jupyter.widget-view+json": {
              "version_major": 2,
              "version_minor": 0,
              "model_id": "7f1e840348874f3da472be29ff4fefcc"
            }
          },
          "metadata": {}
        },
        {
          "output_type": "display_data",
          "data": {
            "text/plain": [
              "plain_text/unsupervised-00000-of-00001.p(…):   0%|          | 0.00/42.0M [00:00<?, ?B/s]"
            ],
            "application/vnd.jupyter.widget-view+json": {
              "version_major": 2,
              "version_minor": 0,
              "model_id": "72c8eb1996c94f6b981688d064538da2"
            }
          },
          "metadata": {}
        },
        {
          "output_type": "display_data",
          "data": {
            "text/plain": [
              "Generating train split:   0%|          | 0/25000 [00:00<?, ? examples/s]"
            ],
            "application/vnd.jupyter.widget-view+json": {
              "version_major": 2,
              "version_minor": 0,
              "model_id": "ff2646a4da6b490dadb172803e6f3e1e"
            }
          },
          "metadata": {}
        },
        {
          "output_type": "display_data",
          "data": {
            "text/plain": [
              "Generating test split:   0%|          | 0/25000 [00:00<?, ? examples/s]"
            ],
            "application/vnd.jupyter.widget-view+json": {
              "version_major": 2,
              "version_minor": 0,
              "model_id": "815b2f3006e443b1af18362938620040"
            }
          },
          "metadata": {}
        },
        {
          "output_type": "display_data",
          "data": {
            "text/plain": [
              "Generating unsupervised split:   0%|          | 0/50000 [00:00<?, ? examples/s]"
            ],
            "application/vnd.jupyter.widget-view+json": {
              "version_major": 2,
              "version_minor": 0,
              "model_id": "8ce98f29753449919466572370b05c8f"
            }
          },
          "metadata": {}
        }
      ]
    },
    {
      "cell_type": "markdown",
      "source": [
        "- IMDb 리뷰 데이터셋 로딩\n",
        "\n",
        "- 클래스 균형을 맞춰 train/test 샘플 추출\n",
        "\n",
        "- Positive/Negative 각각 500개(Train), 100개(Test) 사용\n",
        "\n",
        "- 클래스 imbalance 방지"
      ],
      "metadata": {
        "id": "MPJ-8tlzN_di"
      }
    },
    {
      "cell_type": "code",
      "source": [
        "# =======================\n",
        "# 3. 토크나이저 준비\n",
        "# =======================\n",
        "tokenizer = AutoTokenizer.from_pretrained(\"bert-base-uncased\")\n",
        "\n",
        "def tokenize_batch(texts, max_length=128):\n",
        "    return tokenizer(\n",
        "        texts,\n",
        "        padding=True,\n",
        "        truncation=True,\n",
        "        max_length=max_length,\n",
        "        return_tensors=\"pt\"\n",
        "    )\n",
        "\n",
        "train_enc = tokenize_batch(train_texts)\n",
        "test_enc  = tokenize_batch(test_texts)"
      ],
      "metadata": {
        "colab": {
          "base_uri": "https://localhost:8080/",
          "height": 145,
          "referenced_widgets": [
            "b6f8093652a945cb8782e058a9d955f6",
            "04d7f50a34064d91ba2ef6521bc56d88",
            "17a5d7ee21bf4934938780bc775bd56e",
            "291e59e9d6324209867bd06d1c8fda0a",
            "7c2d63ba2c6c4cfba561f86e23d5aadc",
            "f19c189b4ce84f4087c1fcad8bc54132",
            "8a8f8cee705541c58d41f2a2bf70451f",
            "c7aa00ad192b442cbdde34ba71e2ec36",
            "686b05ae085f4240890b23e15c843b8b",
            "4baefe91f3db451192c328baaa549d1f",
            "23c04b250d4545f097b960563d87865f",
            "22927ed166c8462f8a5af3172d611280",
            "676ec0f4f51c4085936167867b2cee15",
            "ffdd889806ef47a29730c2bf79d6d3b8",
            "987742ed67cf4056a9e28ebc92812260",
            "7514b6a01b8f444984983e0ca60d87d1",
            "a16c4167b1d241f5bc6039fe3f05b2b0",
            "95a5fa59eceb47a9bd23d087e8598423",
            "632705f6057040ca9acc69ac966ad8b0",
            "c41b22af96a64ad9864442d33c3ae2d7",
            "d96a3676b5484e7590f6eecd5567ce62",
            "eb6cc90ae8c6401da351013044737cc6",
            "172793dd630d4e33acb4769ebe39bded",
            "1a73dfccc3264f4bbf95e83e00b8cb48",
            "ea1930a53641439b8ad3a4c38d42b9e0",
            "a40dc43441744cf4bc72f445166d1086",
            "d4e74ffc03b0451cb4d16f5f8a009273",
            "25b9fdb9a53a4591bf4fb0cc5439c192",
            "62686f33692e4cd684a54fa523eb4bd0",
            "420ea324d40e4006a27b68baabf6d3ea",
            "ff0b3d82bffd410285fbc2bd009959af",
            "b236f985b5504fd796ec294a7dccacd7",
            "38b516a30e2e48149232bb5a623793d0",
            "9fece4f7808f49198362eeb7d5762bb8",
            "7a0661ebbf7f45549fbe67b9ce6729fb",
            "da62df47c2714838afd5ae8783c69052",
            "b3f0290ec60f46edbe78281c28f0a036",
            "c31af0e8a69a4776a3c01f78efb4867c",
            "f93ba266c4e647a99e4d86179cef9931",
            "6346e18871d3489a9207bcbea6629268",
            "d56633cacaaa4e12a161b961dd9c156d",
            "f50e010c7564421cbe123e2f79de0564",
            "d240fe7d62214811b2f0718fe56c9651",
            "25c77320439d471a919ae809fa526279"
          ]
        },
        "id": "C88CxiNNKSZ5",
        "outputId": "36c52083-4b80-4fa9-9da4-90d45b9a4a5e"
      },
      "execution_count": null,
      "outputs": [
        {
          "output_type": "display_data",
          "data": {
            "text/plain": [
              "tokenizer_config.json:   0%|          | 0.00/48.0 [00:00<?, ?B/s]"
            ],
            "application/vnd.jupyter.widget-view+json": {
              "version_major": 2,
              "version_minor": 0,
              "model_id": "b6f8093652a945cb8782e058a9d955f6"
            }
          },
          "metadata": {}
        },
        {
          "output_type": "display_data",
          "data": {
            "text/plain": [
              "config.json:   0%|          | 0.00/570 [00:00<?, ?B/s]"
            ],
            "application/vnd.jupyter.widget-view+json": {
              "version_major": 2,
              "version_minor": 0,
              "model_id": "22927ed166c8462f8a5af3172d611280"
            }
          },
          "metadata": {}
        },
        {
          "output_type": "display_data",
          "data": {
            "text/plain": [
              "vocab.txt:   0%|          | 0.00/232k [00:00<?, ?B/s]"
            ],
            "application/vnd.jupyter.widget-view+json": {
              "version_major": 2,
              "version_minor": 0,
              "model_id": "172793dd630d4e33acb4769ebe39bded"
            }
          },
          "metadata": {}
        },
        {
          "output_type": "display_data",
          "data": {
            "text/plain": [
              "tokenizer.json:   0%|          | 0.00/466k [00:00<?, ?B/s]"
            ],
            "application/vnd.jupyter.widget-view+json": {
              "version_major": 2,
              "version_minor": 0,
              "model_id": "9fece4f7808f49198362eeb7d5762bb8"
            }
          },
          "metadata": {}
        }
      ]
    },
    {
      "cell_type": "markdown",
      "source": [],
      "metadata": {
        "id": "idbDvxPhOIir"
      }
    },
    {
      "cell_type": "markdown",
      "source": [
        "- BERT 사전학습 토크나이저 사용\n",
        "\n",
        "- 텍스트 → 토큰 ID 변환, padding/truncation 적용\n",
        "\n",
        "- 배치 단위 토큰화"
      ],
      "metadata": {
        "id": "geXVJUv0Oo_H"
      }
    },
    {
      "cell_type": "code",
      "source": [
        "# =======================\n",
        "# 4. 평가 함수 정의\n",
        "# =======================\n",
        "def compute_metrics(pred):\n",
        "    labels = pred.label_ids\n",
        "    preds  = pred.predictions.argmax(-1)\n",
        "    acc = accuracy_score(labels, preds)\n",
        "    f1  = f1_score(labels, preds)\n",
        "    return {\"accuracy\": acc, \"f1\": f1}"
      ],
      "metadata": {
        "id": "RvdKgm2wKUO5"
      },
      "execution_count": null,
      "outputs": []
    },
    {
      "cell_type": "markdown",
      "source": [
        "- Trainer에서 사용할 metrics 정의\n",
        "\n",
        "- Accuracy와 F1-score 계산"
      ],
      "metadata": {
        "id": "5B6fOadFOs_Y"
      }
    },
    {
      "cell_type": "code",
      "source": [
        "# ==========================\n",
        "# 5. Full Fine-tuning 실험\n",
        "# ==========================\n",
        "from torch.utils.data import Dataset\n",
        "\n",
        "class IMDbDataset(Dataset):\n",
        "    def __init__(self, encodings, labels):\n",
        "        self.encodings = encodings\n",
        "        self.labels = labels\n",
        "    def __len__(self):\n",
        "        return len(self.labels)\n",
        "    def __getitem__(self, idx):\n",
        "        return {key: val[idx] for key, val in self.encodings.items()} | {\"labels\": torch.tensor(self.labels[idx])}\n",
        "\n",
        "train_ds = IMDbDataset(train_enc, train_labels)\n",
        "test_ds  = IMDbDataset(test_enc, test_labels)\n",
        "\n",
        "# 모델 초기화\n",
        "model_ft = AutoModelForSequenceClassification.from_pretrained(\"bert-base-uncased\", num_labels=2)\n",
        "\n",
        "training_args = TrainingArguments(\n",
        "    output_dir=\"./results_ft\",\n",
        "    per_device_train_batch_size=4,\n",
        "    num_train_epochs=1,\n",
        "    logging_steps=50,\n",
        "    save_strategy=\"no\",\n",
        "    seed=42,\n",
        "    report_to=[]\n",
        ")\n",
        "\n",
        "trainer_ft = Trainer(\n",
        "    model=model_ft,\n",
        "    args=training_args,\n",
        "    train_dataset=train_ds,\n",
        "    eval_dataset=test_ds,\n",
        "    compute_metrics=compute_metrics\n",
        ")\n",
        "\n",
        "trainer_ft.train()\n",
        "ft_res = trainer_ft.evaluate()\n",
        "print(\"Full Fine-tuning result:\", ft_res)"
      ],
      "metadata": {
        "colab": {
          "base_uri": "https://localhost:8080/",
          "height": 360,
          "referenced_widgets": [
            "4d2e4e114f034475aed96f70fc0b82a5",
            "82c578b7b03a4c42839095355f56df55",
            "f591a74ca1784234b1ee5fd5d656db20",
            "395a4013702e428b8dc51abd8c66bd1d",
            "6570bbd58cb8440e87c3e4cceff34ad6",
            "6f8d7be795a5473796f7b803e7b70edb",
            "51424a2e64d04037abb58e39640aa308",
            "5cc96a062d974f179b9ade53ef4c32ac",
            "28bf1206e7a9428a85d0c137f1b28c33",
            "3f69ac1b781f4c5580c9a6f5bb78ebf1",
            "bfc562fe69f349b69981fcb1d2f4014b"
          ]
        },
        "id": "Ct88F1JXKVge",
        "outputId": "8b4ce279-aa77-4152-c2d4-c29a21879eb7"
      },
      "execution_count": null,
      "outputs": [
        {
          "output_type": "display_data",
          "data": {
            "text/plain": [
              "model.safetensors:   0%|          | 0.00/440M [00:00<?, ?B/s]"
            ],
            "application/vnd.jupyter.widget-view+json": {
              "version_major": 2,
              "version_minor": 0,
              "model_id": "4d2e4e114f034475aed96f70fc0b82a5"
            }
          },
          "metadata": {}
        },
        {
          "output_type": "stream",
          "name": "stderr",
          "text": [
            "Some weights of BertForSequenceClassification were not initialized from the model checkpoint at bert-base-uncased and are newly initialized: ['classifier.bias', 'classifier.weight']\n",
            "You should probably TRAIN this model on a down-stream task to be able to use it for predictions and inference.\n"
          ]
        },
        {
          "output_type": "display_data",
          "data": {
            "text/plain": [
              "<IPython.core.display.HTML object>"
            ],
            "text/html": [
              "\n",
              "    <div>\n",
              "      \n",
              "      <progress value='250' max='250' style='width:300px; height:20px; vertical-align: middle;'></progress>\n",
              "      [250/250 00:33, Epoch 1/1]\n",
              "    </div>\n",
              "    <table border=\"1\" class=\"dataframe\">\n",
              "  <thead>\n",
              " <tr style=\"text-align: left;\">\n",
              "      <th>Step</th>\n",
              "      <th>Training Loss</th>\n",
              "    </tr>\n",
              "  </thead>\n",
              "  <tbody>\n",
              "    <tr>\n",
              "      <td>50</td>\n",
              "      <td>0.658500</td>\n",
              "    </tr>\n",
              "    <tr>\n",
              "      <td>100</td>\n",
              "      <td>0.631800</td>\n",
              "    </tr>\n",
              "    <tr>\n",
              "      <td>150</td>\n",
              "      <td>0.519500</td>\n",
              "    </tr>\n",
              "    <tr>\n",
              "      <td>200</td>\n",
              "      <td>0.450900</td>\n",
              "    </tr>\n",
              "    <tr>\n",
              "      <td>250</td>\n",
              "      <td>0.614600</td>\n",
              "    </tr>\n",
              "  </tbody>\n",
              "</table><p>"
            ]
          },
          "metadata": {}
        },
        {
          "output_type": "display_data",
          "data": {
            "text/plain": [
              "<IPython.core.display.HTML object>"
            ],
            "text/html": [
              "\n",
              "    <div>\n",
              "      \n",
              "      <progress value='25' max='25' style='width:300px; height:20px; vertical-align: middle;'></progress>\n",
              "      [25/25 00:01]\n",
              "    </div>\n",
              "    "
            ]
          },
          "metadata": {}
        },
        {
          "output_type": "stream",
          "name": "stdout",
          "text": [
            "Full Fine-tuning result: {'eval_loss': 0.48197150230407715, 'eval_accuracy': 0.865, 'eval_f1': 0.8682926829268293, 'eval_runtime': 1.4893, 'eval_samples_per_second': 134.294, 'eval_steps_per_second': 16.787, 'epoch': 1.0}\n"
          ]
        }
      ]
    },
    {
      "cell_type": "markdown",
      "source": [
        "- BERT 모델 + classification head 초기화\n",
        "\n",
        "- Trainer로 학습 및 평가\n",
        "\n",
        "- Full Fine-tuning: 모델의 모든 파라미터 학습"
      ],
      "metadata": {
        "id": "iVpqwgL-OwSO"
      }
    },
    {
      "cell_type": "code",
      "source": [
        "# ==========================\n",
        "# 6. PEFT 실험 (LoRA 예시)\n",
        "# ==========================\n",
        "# LoRA 설정\n",
        "lora_config = LoraConfig(\n",
        "    r=8,\n",
        "    lora_alpha=32,\n",
        "    target_modules=[\"query\", \"value\"],\n",
        "    lora_dropout=0.1,\n",
        "    bias=\"none\",\n",
        "    task_type=\"SEQ_CLS\"\n",
        ")\n",
        "\n",
        "# PEFT 모델 적용\n",
        "peft_model = get_peft_model(model_ft, lora_config)\n",
        "\n",
        "training_args_peft = TrainingArguments(\n",
        "    output_dir=\"./results_peft\",\n",
        "    per_device_train_batch_size=4,\n",
        "    num_train_epochs=1,\n",
        "    logging_steps=50,\n",
        "    save_strategy=\"no\",\n",
        "    seed=42,\n",
        "    report_to=[]\n",
        ")\n",
        "\n",
        "trainer_peft = Trainer(\n",
        "    model=peft_model,\n",
        "    args=training_args_peft,\n",
        "    train_dataset=train_ds,\n",
        "    eval_dataset=test_ds,\n",
        "    compute_metrics=compute_metrics\n",
        ")\n",
        "\n",
        "trainer_peft.train()\n",
        "peft_res = trainer_peft.evaluate()\n",
        "print(\"PEFT result:\", peft_res)"
      ],
      "metadata": {
        "colab": {
          "base_uri": "https://localhost:8080/",
          "height": 271
        },
        "id": "b5zY_OanKXZU",
        "outputId": "a441dcc8-c51d-410f-beba-dd3f96044b0e"
      },
      "execution_count": null,
      "outputs": [
        {
          "output_type": "display_data",
          "data": {
            "text/plain": [
              "<IPython.core.display.HTML object>"
            ],
            "text/html": [
              "\n",
              "    <div>\n",
              "      \n",
              "      <progress value='250' max='250' style='width:300px; height:20px; vertical-align: middle;'></progress>\n",
              "      [250/250 00:26, Epoch 1/1]\n",
              "    </div>\n",
              "    <table border=\"1\" class=\"dataframe\">\n",
              "  <thead>\n",
              " <tr style=\"text-align: left;\">\n",
              "      <th>Step</th>\n",
              "      <th>Training Loss</th>\n",
              "    </tr>\n",
              "  </thead>\n",
              "  <tbody>\n",
              "    <tr>\n",
              "      <td>50</td>\n",
              "      <td>0.453900</td>\n",
              "    </tr>\n",
              "    <tr>\n",
              "      <td>100</td>\n",
              "      <td>0.220600</td>\n",
              "    </tr>\n",
              "    <tr>\n",
              "      <td>150</td>\n",
              "      <td>0.224700</td>\n",
              "    </tr>\n",
              "    <tr>\n",
              "      <td>200</td>\n",
              "      <td>0.227700</td>\n",
              "    </tr>\n",
              "    <tr>\n",
              "      <td>250</td>\n",
              "      <td>0.445500</td>\n",
              "    </tr>\n",
              "  </tbody>\n",
              "</table><p>"
            ]
          },
          "metadata": {}
        },
        {
          "output_type": "display_data",
          "data": {
            "text/plain": [
              "<IPython.core.display.HTML object>"
            ],
            "text/html": [
              "\n",
              "    <div>\n",
              "      \n",
              "      <progress value='25' max='25' style='width:300px; height:20px; vertical-align: middle;'></progress>\n",
              "      [25/25 00:01]\n",
              "    </div>\n",
              "    "
            ]
          },
          "metadata": {}
        },
        {
          "output_type": "stream",
          "name": "stdout",
          "text": [
            "PEFT result: {'eval_loss': 0.5130623579025269, 'eval_accuracy': 0.87, 'eval_f1': 0.875, 'eval_runtime': 1.4146, 'eval_samples_per_second': 141.379, 'eval_steps_per_second': 17.672, 'epoch': 1.0}\n"
          ]
        }
      ]
    },
    {
      "cell_type": "markdown",
      "source": [
        "- LoRA 설정: 학습할 low-rank 모듈 정의\n",
        "\n",
        "- PEFT 모델 생성 (기존 BERT 파라미터는 freeze)\n",
        "\n",
        "- Trainer로 학습 및 평가\n",
        "\n",
        "- PEFT: 적은 파라미터만 학습 → 빠른 학습, 메모리 효율적"
      ],
      "metadata": {
        "id": "cmTae13fO0F7"
      }
    },
    {
      "cell_type": "code",
      "source": [
        "# ==========================\n",
        "# 7. 시각화\n",
        "# ==========================\n",
        "methods = [\"Full Fine-tuning\", \"PEFT (LoRA)\"]\n",
        "accuracies = [ft_res[\"eval_accuracy\"], peft_res[\"eval_accuracy\"]]\n",
        "f1_scores  = [ft_res[\"eval_f1\"], peft_res[\"eval_f1\"]]\n",
        "\n",
        "x = np.arange(len(methods))\n",
        "width = 0.35\n",
        "\n",
        "plt.figure(figsize=(8,5))\n",
        "plt.bar(x - width/2, accuracies, width, label=\"Accuracy\", color=\"skyblue\")\n",
        "plt.bar(x + width/2, f1_scores, width, label=\"F1-score\", color=\"salmon\")\n",
        "plt.xticks(x, methods)\n",
        "plt.ylim(0, 1)\n",
        "plt.ylabel(\"Score\")\n",
        "plt.title(\"Full Fine-tuning vs PEFT (LoRA) Performance\")\n",
        "plt.legend()\n",
        "plt.show()"
      ],
      "metadata": {
        "colab": {
          "base_uri": "https://localhost:8080/",
          "height": 468
        },
        "id": "NNDj23osKYgI",
        "outputId": "789734da-4a2a-4bb8-9e88-2d1829d8bb64"
      },
      "execution_count": null,
      "outputs": [
        {
          "output_type": "display_data",
          "data": {
            "text/plain": [
              "<Figure size 800x500 with 1 Axes>"
            ],
            "image/png": "[encoded data removed]"
          },
          "metadata": {}
        }
      ]
    },
    {
      "cell_type": "markdown",
      "source": [
        "## ✅ 결론 및 요약\n",
        "\n",
        "- Full Fine-tuning 결과\n",
        "\n",
        "  - Accuracy: 약 0.8450 (참고: 이전 실험값)\n",
        "\n",
        "  - F1-score: 약 0.8450\n",
        "\n",
        "  - 장점: 전체 모델 학습 → 최대 성능 달성 가능\n",
        "\n",
        "  - 단점: 학습 시간 길고, GPU 메모리 부담 큼\n",
        "\n",
        "- PEFT (LoRA) 결과\n",
        "\n",
        "  - Accuracy: 0.87\n",
        "\n",
        "  - F1-score: 0.875\n",
        "\n",
        "  - Eval Loss: 0.513\n",
        "\n",
        "  - 장점:\n",
        "\n",
        "    - Accuracy/F1 모두 Full Fine-tuning보다 약간 향상\n",
        "\n",
        "    - 학습 시간 짧고, 메모리 효율적\n",
        "\n",
        "  - 단점\n",
        "    - 일부 상황에서 Full Fine-tuning과 성능 차이가 날 수 있음\n",
        "\n",
        "- 실무 적용 시 시사점\n",
        "\n",
        "  - PEFT는 자원 제한 환경에서 매우 효율적이며, 소규모 데이터셋에도 강점을 가짐\n",
        "\n",
        "  - 최고 성능이 필요한 경우에는 Full Fine-tuning이 적합\n",
        "\n",
        "  - 이번 실험에서는 PEFT가 Full Fine-tuning보다 오히려 Accuracy와 F1에서 조금 더 높은 성능을 보여, 적은 자원으로도 충분히 경쟁력 있는 모델 학습 가능"
      ],
      "metadata": {
        "id": "xd5KY6aRNbWp"
      }
    }
  ]
}