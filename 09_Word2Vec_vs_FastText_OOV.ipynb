{
  "nbformat": 4,
  "nbformat_minor": 0,
  "metadata": {
    "colab": {
      "provenance": [],
      "toc_visible": true,
      "gpuType": "T4",
      "authorship_tag": "ABX9TyMEhORzBIqnzO/oCQlkej79",
      "include_colab_link": true
    },
    "kernelspec": {
      "name": "python3",
      "display_name": "Python 3"
    },
    "language_info": {
      "name": "python"
    },
    "accelerator": "GPU"
  },
  "cells": [
    {
      "cell_type": "markdown",
      "metadata": {
        "id": "view-in-github",
        "colab_type": "text"
      },
      "source": [
        "<a href=\"https://colab.research.google.com/github/monya-9/deep-learning-experiments/blob/main/09_Word2Vec_vs_FastText_OOV.ipynb\" target=\"_parent\"><img src=\"https://colab.research.google.com/assets/colab-badge.svg\" alt=\"Open In Colab\"/></a>"
      ]
    },
    {
      "cell_type": "markdown",
      "source": [
        "# Word2Vec vs FastText 비교, OOV 단어 처리\n",
        "## ✅ 실험 목적\n",
        "\n",
        "- Word2Vec과 FastText의 가장 큰 차이점은 OOV(Out-Of-Vocabulary, 사전에 없는 단어) 처리 방식이다.\n",
        "\n",
        "- Word2Vec은 학습 시 보지 못한 단어(OOV)에 대해 벡터를 제공할 수 없지만, FastText는 subword 단위(ngram)를 활용해 OOV 단어도 벡터를 생성할 수 있다.\n",
        "\n",
        "- 본 실험에서는 두 모델의 차이를 OOV 단어 처리 능력과 임베딩 공간 유사도 비교를 통해 확인한다.\n",
        "\n",
        "## 🧪 실험 설계\n",
        "\n",
        "1. 데이터셋: IMDb 리뷰 데이터 (일부 샘플 사용)\n",
        "\n",
        "2. 토큰화: 간단히 공백 단위 split\n",
        "\n",
        "3. 모델 학습:\n",
        "\n",
        "  - Word2Vec (gensim)\n",
        "\n",
        "  - FastText (gensim)\n",
        "\n",
        "4. 비교 항목:\n",
        "\n",
        "  - 학습된 단어로 벡터 추출\n",
        "\n",
        "  - OOV 단어(\"hellooooo\", \"computerrrr\")에 대한 처리 여부 비교\n",
        "\n",
        "  - 유사 단어 탐색 (most_similar)\n",
        "\n",
        "5. 시각화: t-SNE로 임베딩 공간 비교"
      ],
      "metadata": {
        "id": "eT_Ln-D744PD"
      }
    },
    {
      "cell_type": "code",
      "execution_count": 5,
      "metadata": {
        "colab": {
          "base_uri": "https://localhost:8080/"
        },
        "id": "jJA3R3XC4zlN",
        "outputId": "cd77f091-8334-434b-fddb-9edc8800365e"
      },
      "outputs": [
        {
          "output_type": "stream",
          "name": "stdout",
          "text": [
            "Requirement already satisfied: gensim in /usr/local/lib/python3.12/dist-packages (4.3.3)\n",
            "Requirement already satisfied: datasets in /usr/local/lib/python3.12/dist-packages (4.0.0)\n",
            "Requirement already satisfied: matplotlib in /usr/local/lib/python3.12/dist-packages (3.10.0)\n",
            "Requirement already satisfied: scikit-learn in /usr/local/lib/python3.12/dist-packages (1.6.1)\n",
            "Requirement already satisfied: numpy<2.0,>=1.18.5 in /usr/local/lib/python3.12/dist-packages (from gensim) (1.26.4)\n",
            "Requirement already satisfied: scipy<1.14.0,>=1.7.0 in /usr/local/lib/python3.12/dist-packages (from gensim) (1.13.1)\n",
            "Requirement already satisfied: smart-open>=1.8.1 in /usr/local/lib/python3.12/dist-packages (from gensim) (7.3.0.post1)\n",
            "Requirement already satisfied: filelock in /usr/local/lib/python3.12/dist-packages (from datasets) (3.19.1)\n",
            "Requirement already satisfied: pyarrow>=15.0.0 in /usr/local/lib/python3.12/dist-packages (from datasets) (18.1.0)\n",
            "Requirement already satisfied: dill<0.3.9,>=0.3.0 in /usr/local/lib/python3.12/dist-packages (from datasets) (0.3.8)\n",
            "Requirement already satisfied: pandas in /usr/local/lib/python3.12/dist-packages (from datasets) (2.2.2)\n",
            "Requirement already satisfied: requests>=2.32.2 in /usr/local/lib/python3.12/dist-packages (from datasets) (2.32.4)\n",
            "Requirement already satisfied: tqdm>=4.66.3 in /usr/local/lib/python3.12/dist-packages (from datasets) (4.67.1)\n",
            "Requirement already satisfied: xxhash in /usr/local/lib/python3.12/dist-packages (from datasets) (3.5.0)\n",
            "Requirement already satisfied: multiprocess<0.70.17 in /usr/local/lib/python3.12/dist-packages (from datasets) (0.70.16)\n",
            "Requirement already satisfied: fsspec<=2025.3.0,>=2023.1.0 in /usr/local/lib/python3.12/dist-packages (from fsspec[http]<=2025.3.0,>=2023.1.0->datasets) (2025.3.0)\n",
            "Requirement already satisfied: huggingface-hub>=0.24.0 in /usr/local/lib/python3.12/dist-packages (from datasets) (0.34.4)\n",
            "Requirement already satisfied: packaging in /usr/local/lib/python3.12/dist-packages (from datasets) (25.0)\n",
            "Requirement already satisfied: pyyaml>=5.1 in /usr/local/lib/python3.12/dist-packages (from datasets) (6.0.2)\n",
            "Requirement already satisfied: contourpy>=1.0.1 in /usr/local/lib/python3.12/dist-packages (from matplotlib) (1.3.3)\n",
            "Requirement already satisfied: cycler>=0.10 in /usr/local/lib/python3.12/dist-packages (from matplotlib) (0.12.1)\n",
            "Requirement already satisfied: fonttools>=4.22.0 in /usr/local/lib/python3.12/dist-packages (from matplotlib) (4.59.1)\n",
            "Requirement already satisfied: kiwisolver>=1.3.1 in /usr/local/lib/python3.12/dist-packages (from matplotlib) (1.4.9)\n",
            "Requirement already satisfied: pillow>=8 in /usr/local/lib/python3.12/dist-packages (from matplotlib) (11.3.0)\n",
            "Requirement already satisfied: pyparsing>=2.3.1 in /usr/local/lib/python3.12/dist-packages (from matplotlib) (3.2.3)\n",
            "Requirement already satisfied: python-dateutil>=2.7 in /usr/local/lib/python3.12/dist-packages (from matplotlib) (2.9.0.post0)\n",
            "Requirement already satisfied: joblib>=1.2.0 in /usr/local/lib/python3.12/dist-packages (from scikit-learn) (1.5.1)\n",
            "Requirement already satisfied: threadpoolctl>=3.1.0 in /usr/local/lib/python3.12/dist-packages (from scikit-learn) (3.6.0)\n",
            "Requirement already satisfied: aiohttp!=4.0.0a0,!=4.0.0a1 in /usr/local/lib/python3.12/dist-packages (from fsspec[http]<=2025.3.0,>=2023.1.0->datasets) (3.12.15)\n",
            "Requirement already satisfied: typing-extensions>=3.7.4.3 in /usr/local/lib/python3.12/dist-packages (from huggingface-hub>=0.24.0->datasets) (4.14.1)\n",
            "Requirement already satisfied: hf-xet<2.0.0,>=1.1.3 in /usr/local/lib/python3.12/dist-packages (from huggingface-hub>=0.24.0->datasets) (1.1.7)\n",
            "Requirement already satisfied: six>=1.5 in /usr/local/lib/python3.12/dist-packages (from python-dateutil>=2.7->matplotlib) (1.17.0)\n",
            "Requirement already satisfied: charset_normalizer<4,>=2 in /usr/local/lib/python3.12/dist-packages (from requests>=2.32.2->datasets) (3.4.3)\n",
            "Requirement already satisfied: idna<4,>=2.5 in /usr/local/lib/python3.12/dist-packages (from requests>=2.32.2->datasets) (3.10)\n",
            "Requirement already satisfied: urllib3<3,>=1.21.1 in /usr/local/lib/python3.12/dist-packages (from requests>=2.32.2->datasets) (2.5.0)\n",
            "Requirement already satisfied: certifi>=2017.4.17 in /usr/local/lib/python3.12/dist-packages (from requests>=2.32.2->datasets) (2025.8.3)\n",
            "Requirement already satisfied: wrapt in /usr/local/lib/python3.12/dist-packages (from smart-open>=1.8.1->gensim) (1.17.3)\n",
            "Requirement already satisfied: pytz>=2020.1 in /usr/local/lib/python3.12/dist-packages (from pandas->datasets) (2025.2)\n",
            "Requirement already satisfied: tzdata>=2022.7 in /usr/local/lib/python3.12/dist-packages (from pandas->datasets) (2025.2)\n",
            "Requirement already satisfied: aiohappyeyeballs>=2.5.0 in /usr/local/lib/python3.12/dist-packages (from aiohttp!=4.0.0a0,!=4.0.0a1->fsspec[http]<=2025.3.0,>=2023.1.0->datasets) (2.6.1)\n",
            "Requirement already satisfied: aiosignal>=1.4.0 in /usr/local/lib/python3.12/dist-packages (from aiohttp!=4.0.0a0,!=4.0.0a1->fsspec[http]<=2025.3.0,>=2023.1.0->datasets) (1.4.0)\n",
            "Requirement already satisfied: attrs>=17.3.0 in /usr/local/lib/python3.12/dist-packages (from aiohttp!=4.0.0a0,!=4.0.0a1->fsspec[http]<=2025.3.0,>=2023.1.0->datasets) (25.3.0)\n",
            "Requirement already satisfied: frozenlist>=1.1.1 in /usr/local/lib/python3.12/dist-packages (from aiohttp!=4.0.0a0,!=4.0.0a1->fsspec[http]<=2025.3.0,>=2023.1.0->datasets) (1.7.0)\n",
            "Requirement already satisfied: multidict<7.0,>=4.5 in /usr/local/lib/python3.12/dist-packages (from aiohttp!=4.0.0a0,!=4.0.0a1->fsspec[http]<=2025.3.0,>=2023.1.0->datasets) (6.6.4)\n",
            "Requirement already satisfied: propcache>=0.2.0 in /usr/local/lib/python3.12/dist-packages (from aiohttp!=4.0.0a0,!=4.0.0a1->fsspec[http]<=2025.3.0,>=2023.1.0->datasets) (0.3.2)\n",
            "Requirement already satisfied: yarl<2.0,>=1.17.0 in /usr/local/lib/python3.12/dist-packages (from aiohttp!=4.0.0a0,!=4.0.0a1->fsspec[http]<=2025.3.0,>=2023.1.0->datasets) (1.20.1)\n"
          ]
        }
      ],
      "source": [
        "# =======================\n",
        "# 0. 라이브러리\n",
        "# =======================\n",
        "!pip install gensim datasets matplotlib scikit-learn\n",
        "\n",
        "\n",
        "import gensim\n",
        "from gensim.models import Word2Vec, FastText\n",
        "from datasets import load_dataset\n",
        "import matplotlib.pyplot as plt\n",
        "from sklearn.manifold import TSNE\n",
        "import numpy as np\n",
        "import re"
      ]
    },
    {
      "cell_type": "code",
      "source": [
        "# ===========================================\n",
        "# 1. 데이터 불러오기 & 간단한 토큰화 함수\n",
        "# ===========================================\n",
        "dataset = load_dataset(\"imdb\")\n",
        "train_subset = dataset[\"train\"].select(range(5000))   # 앞 5000개 샘플 선택\n",
        "train_texts = [x[\"text\"] for x in train_subset]\n",
        "\n",
        "def simple_tokenize(text):\n",
        "    text = text.lower()\n",
        "    text = re.sub(r\"[^a-z\\s]\", \"\", text)  # 영어 알파벳/공백만 남기기\n",
        "    return text.split()\n",
        "\n",
        "train_tokens = [simple_tokenize(t) for t in train_texts]"
      ],
      "metadata": {
        "id": "qPlrY0pf5UA4"
      },
      "execution_count": 6,
      "outputs": []
    },
    {
      "cell_type": "markdown",
      "source": [
        "1. 데이터 불러오기\n",
        "  - IMDb 리뷰 데이터셋 사용\n",
        "  - 학습용으로 train set에서 5,000개 샘플만 선택(속도 향상)\n",
        "  - 리스트 형태로 텍스트만 추출\n",
        "2. 간단한 토큰화\n",
        "  - 소문자 변환 + 특수문자 제거 -> 단어 단위 공백 분리\n",
        "  - Word2Vec/FastText 학습을 위해 `List[List[set]]` 형태로 변환"
      ],
      "metadata": {
        "id": "hdNMfs9I8KO1"
      }
    },
    {
      "cell_type": "code",
      "source": [
        "# =======================\n",
        "# 2. 모델 학습\n",
        "# =======================\n",
        "print(\"Training Word2Vec...\")\n",
        "model_w2v = Word2Vec(sentences=train_tokens, vector_size=100, window=5, min_count=5, workers=4)\n",
        "\n",
        "\n",
        "print(\"Training FastText...\")\n",
        "model_ft = FastText(sentences=train_tokens, vector_size=100, window=5, min_count=5, workers=4)"
      ],
      "metadata": {
        "colab": {
          "base_uri": "https://localhost:8080/"
        },
        "id": "TviEx3sf5Vkc",
        "outputId": "e6f40abc-2197-4c97-8171-0f65e33ecad1"
      },
      "execution_count": 7,
      "outputs": [
        {
          "output_type": "stream",
          "name": "stdout",
          "text": [
            "Training Word2Vec...\n",
            "Training FastText...\n"
          ]
        }
      ]
    },
    {
      "cell_type": "markdown",
      "source": [
        "1. Word2Vec\n",
        "  - 학습된 단어만 벡터 생성\n",
        "  - OOV 단어는 벡터를 제공하지 않음\n",
        "2. FastText 학습\n",
        "  - subword(ngram) 기반 학습 -> OOV 단어도 벡터 생성 가능\n",
        "  - 철자 변형된 단어도 의미 공간에 배치 가능"
      ],
      "metadata": {
        "id": "qgM2vUOF8dgQ"
      }
    },
    {
      "cell_type": "code",
      "source": [
        "# =======================\n",
        "# 3. OOV 단어 처리 비교\n",
        "# =======================\n",
        "words_to_check = [\"computer\", \"hellooooo\", \"computerrrr\"]\n",
        "\n",
        "\n",
        "for w in words_to_check:\n",
        "  print(f\"\\nWord: {w}\")\n",
        "  try:\n",
        "    vec_w2v = model_w2v.wv[w]\n",
        "    print(\"Word2Vec ✅ available\")\n",
        "  except KeyError:\n",
        "    print(\"Word2Vec ❌ OOV\")\n",
        "  try:\n",
        "    vec_ft = model_ft.wv[w]\n",
        "    print(\"FastText ✅ available\")\n",
        "  except KeyError:\n",
        "    print(\"FastText ❌ OOV\")"
      ],
      "metadata": {
        "colab": {
          "base_uri": "https://localhost:8080/"
        },
        "id": "th0uJlO05Wu0",
        "outputId": "fc572aa9-78fe-4084-e066-de2d0517ffe6"
      },
      "execution_count": 8,
      "outputs": [
        {
          "output_type": "stream",
          "name": "stdout",
          "text": [
            "\n",
            "Word: computer\n",
            "Word2Vec ✅ available\n",
            "FastText ✅ available\n",
            "\n",
            "Word: hellooooo\n",
            "Word2Vec ❌ OOV\n",
            "FastText ✅ available\n",
            "\n",
            "Word: computerrrr\n",
            "Word2Vec ❌ OOV\n",
            "FastText ✅ available\n"
          ]
        }
      ]
    },
    {
      "cell_type": "markdown",
      "source": [
        "- 학습된 단어와 OOV 단어 벡터 확인\n",
        "- Word2Vec: OOV 단어는 오류(KeyError) 발생\n",
        "- FastText: OOV 단어도 벡터 생성 가능"
      ],
      "metadata": {
        "id": "k-VS5qMz8rD6"
      }
    },
    {
      "cell_type": "code",
      "source": [
        "# =======================\n",
        "# 4. 유사 단어 탐색\n",
        "# =======================\n",
        "print(\"\\n[Most similar to 'computer']\")\n",
        "print(\"Word2Vec:\", model_w2v.wv.most_similar(\"computer\")[:5])\n",
        "print(\"FastText:\", model_ft.wv.most_similar(\"computer\")[:5])"
      ],
      "metadata": {
        "colab": {
          "base_uri": "https://localhost:8080/"
        },
        "id": "Ve36gxGg5X4i",
        "outputId": "43bf192a-cd3e-4834-9aea-813ebe760c8b"
      },
      "execution_count": 9,
      "outputs": [
        {
          "output_type": "stream",
          "name": "stdout",
          "text": [
            "\n",
            "[Most similar to 'computer']\n",
            "Word2Vec: [('secluded', 0.9237314462661743), ('weapon', 0.9179050326347351), ('chair', 0.9161997437477112), ('rage', 0.9129294157028198), ('ear', 0.9128193259239197)]\n",
            "FastText: [('suffer', 0.9529808759689331), ('painter', 0.9448802471160889), ('pinter', 0.9389995336532593), ('composer', 0.9358821511268616), ('carpenter', 0.9349609017372131)]\n"
          ]
        }
      ]
    },
    {
      "cell_type": "markdown",
      "source": [
        "- 특정 단어 주변 유사 단어 확인\n",
        "- Word2Vec은 학습된 단어 중에서만\n",
        "- FastText는 subword 기반으로 조금 더 일반화된 유사 단어 제공"
      ],
      "metadata": {
        "id": "3usFxHkg8x_i"
      }
    },
    {
      "cell_type": "code",
      "source": [
        "# =======================\n",
        "# 5. 임베딩 시각화 (t-SNE)\n",
        "# =======================\n",
        "# =======================\n",
        "words = [\"computer\", \"film\", \"movie\", \"love\", \"bad\", \"good\", \"hellooooo\", \"computerrrr\"]\n",
        "vecs_w2v, vecs_ft = [], []\n",
        "labels = []\n",
        "\n",
        "for w in words:\n",
        "    labels.append(w)\n",
        "    try:\n",
        "        vecs_w2v.append(model_w2v.wv[w])\n",
        "    except:\n",
        "        vecs_w2v.append(np.zeros(100))\n",
        "    try:\n",
        "        vecs_ft.append(model_ft.wv[w])\n",
        "    except:\n",
        "        vecs_ft.append(np.zeros(100))\n",
        "\n",
        "# 리스트 → 넘파이 배열 변환\n",
        "vecs_w2v = np.array(vecs_w2v)\n",
        "vecs_ft = np.array(vecs_ft)\n",
        "\n",
        "# t-SNE 변환\n",
        "tsne = TSNE(n_components=2, random_state=42, perplexity=5)  # 데이터 샘플 적으니 perplexity 줄임\n",
        "emb_w2v = tsne.fit_transform(vecs_w2v)\n",
        "emb_ft = tsne.fit_transform(vecs_ft)\n",
        "\n",
        "# 시각화\n",
        "plt.figure(figsize=(12, 5))\n",
        "\n",
        "plt.subplot(1, 2, 1)\n",
        "plt.title(\"Word2Vec Embeddings\")\n",
        "plt.scatter(emb_w2v[:, 0], emb_w2v[:, 1])\n",
        "for i, word in enumerate(labels):\n",
        "    plt.annotate(word, (emb_w2v[i, 0], emb_w2v[i, 1]))\n",
        "\n",
        "plt.subplot(1, 2, 2)\n",
        "plt.title(\"FastText Embeddings\")\n",
        "plt.scatter(emb_ft[:, 0], emb_ft[:, 1])\n",
        "for i, word in enumerate(labels):\n",
        "    plt.annotate(word, (emb_ft[i, 0], emb_ft[i, 1]))\n",
        "\n",
        "plt.show()"
      ],
      "metadata": {
        "colab": {
          "base_uri": "https://localhost:8080/",
          "height": 468
        },
        "id": "wTT8FZkS5ZDQ",
        "outputId": "64fb2874-4114-48ba-a4e0-3d332ab9a327"
      },
      "execution_count": 11,
      "outputs": [
        {
          "output_type": "display_data",
          "data": {
            "text/plain": [
              "<Figure size 1200x500 with 2 Axes>"
            ],
            "image/png": "[encoded data removed]"
          },
          "metadata": {}
        }
      ]
    },
    {
      "cell_type": "markdown",
      "source": [
        "- Word2Vec / FastText 단어 벡터 2차원으로 변환\n",
        "- 좌측: Word2Vec, 우측: FastText\n",
        "- Word2Vec OOV -> (0,0)\n",
        "- FastText OOV -> 의미 공간에 자연스럽게 배치됨"
      ],
      "metadata": {
        "id": "2vgfG1xY87Q4"
      }
    },
    {
      "cell_type": "markdown",
      "source": [
        "## ✅ 결과 요약\n",
        "| 항목        | Word2Vec   | FastText          |\n",
        "| --------- | ---------- | ----------------- |\n",
        "| 학습 방식     | 단어 단위      | subword(ngram) 단위 |\n",
        "| OOV 단어    | 처리 불가      | 벡터 생성 가능          |\n",
        "| 속도        | 빠름         | 느림 (subword 학습)   |\n",
        "| 유사 단어     | 학습된 단어만    | 철자 유사 단어까지 가능     |\n",
        "| t-SNE 시각화 | OOV = 0 벡터 | OOV도 의미 공간에 배치    |\n",
        "\n",
        "\n",
        "1. OOV 단어 처리\n",
        "\n",
        "  - Word2Vec → 학습하지 않은 단어(OOV)는 아예 벡터 제공 불가\n",
        "\n",
        "  - FastText → subword 단위(ngram)를 사용하여 OOV 단어도 벡터 생성 가능\n",
        "\n",
        "2.  실험 결과\n",
        "\n",
        "   - \"computer\" → 두 모델 모두 벡터 제공\n",
        "\n",
        "   - \"hellooooo\", \"computerrrr\" → Word2Vec ❌ (OOV), FastText ✅ (subword 기반으로 벡터 생성)\n",
        "\n",
        "3. 유사 단어 탐색\n",
        "\n",
        "  - Word2Vec: 학습된 단어 내에서만 의미 기반 유사 단어 제공\n",
        "\n",
        "  - FastText: subword 정보를 반영해 철자가 유사한 단어도 잘 잡아냄\n",
        "\n",
        "4. 시각화 (t-SNE)\n",
        "\n",
        "  - Word2Vec: OOV 단어는 원점(0 벡터) → 시각화에서 의미 없음\n",
        "\n",
        "  - FastText: OOV 단어도 기존 의미 공간에 자연스럽게 배치됨"
      ],
      "metadata": {
        "id": "_NDe7WWN5b47"
      }
    }
  ]
}