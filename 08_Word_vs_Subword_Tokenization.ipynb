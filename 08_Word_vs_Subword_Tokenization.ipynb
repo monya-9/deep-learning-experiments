{
  "nbformat": 4,
  "nbformat_minor": 0,
  "metadata": {
    "colab": {
      "provenance": [],
      "toc_visible": true,
      "gpuType": "T4",
      "authorship_tag": "ABX9TyNh70NIjJQsKfOZRbVu41Ne",
      "include_colab_link": true
    },
    "kernelspec": {
      "name": "python3",
      "display_name": "Python 3"
    },
    "language_info": {
      "name": "python"
    },
    "accelerator": "GPU"
  },
  "cells": [
    {
      "cell_type": "markdown",
      "metadata": {
        "id": "view-in-github",
        "colab_type": "text"
      },
      "source": [
        "<a href=\"https://colab.research.google.com/github/monya-9/deep-learning-experiments/blob/main/08_Word_vs_Subword_Tokenization.ipynb\" target=\"_parent\"><img src=\"https://colab.research.google.com/assets/colab-badge.svg\" alt=\"Open In Colab\"/></a>"
      ]
    },
    {
      "cell_type": "markdown",
      "source": [
        "# 단어 단위 vs subword 단위의 문장 처리 결과 비교\n",
        "\n",
        "## ✅실험 목적\n",
        "\n",
        "- 같은 코퍼스에서 단어 단위 토크나이저와 서브워드 단위 토크나이저(WordPiece 또는 BPE)를 학습하고, **문장 처리 결과(길이, OOV, 복원률, 커버리지)**를 비교한다.\n",
        "\n",
        "- 서브워드가 희귀어/신조어 처리와 OOV 감소에 유리하다는 가설을 검증한다.\n",
        "\n",
        "## 🧪실험 설계\n",
        "\n",
        "1. 데이터: IMDb(학습/검증 분할 사용, 텍스트만 사용)\n",
        "\n",
        "2. 토크나이저\n",
        "\n",
        "  - WordLevel(단어 단위, 공백/기본 분리)\n",
        "\n",
        "  - WordPiece(서브워드) 또는 BPE 중 택1 (기본은 WordPiece)\n",
        "\n",
        "  - 두 토크나이저 모두 동일한 vocab size(예: 8,000)와 동일한 스페셜 토큰 사용\n",
        "\n",
        "2. 지표\n",
        "\n",
        "  - 평균 토큰 수(문장 길이), 중앙값, IQR\n",
        "\n",
        "  - OOV 비율([UNK] 토큰 비율)\n",
        "\n",
        "  - 디코딩 복원률(encode→decode 후 원문과의 유사도; 단순 토큰 조인 기준)\n",
        "\n",
        "  - 커버리지(상위 N 서브워드/단어로 커버되는 토큰 비율의 누적곡선)\n",
        "\n",
        "4. 시각화\n",
        "\n",
        "  - 문장 길이 히스토그램(두 설정 비교)\n",
        "\n",
        "  - OOV 비율 막대 그래프\n",
        "\n",
        "  - 커버리지 누적 곡선\n",
        "\n",
        "5. 결론: 각 지표를 요약하고 장단점 정리"
      ],
      "metadata": {
        "id": "BHb0mE7ZshK8"
      }
    },
    {
      "cell_type": "code",
      "execution_count": 4,
      "metadata": {
        "id": "iyPK4nepr_ry"
      },
      "outputs": [],
      "source": [
        "# 1. 환경 설정 & 라이브러리 설치\n",
        "!pip -q install tokenizers datasets matplotlib pandas numpy"
      ]
    },
    {
      "cell_type": "code",
      "source": [
        "# 2. 라이브러리 로드 & 시드 고정\n",
        "import os, random\n",
        "import numpy as np\n",
        "import pandas as pd\n",
        "import matplotlib.pyplot as plt\n",
        "\n",
        "from datasets import load_dataset\n",
        "from tokenizers import Tokenizer\n",
        "from tokenizers.models import WordLevel, WordPiece, BPE\n",
        "from tokenizers.trainers import WordLevelTrainer, WordPieceTrainer, BpeTrainer\n",
        "from tokenizers.pre_tokenizers import Whitespace, WhitespaceSplit, BertPreTokenizer\n",
        "from tokenizers.normalizers import NFKC, Lowercase, Sequence\n",
        "from tokenizers.processors import TemplateProcessing\n",
        "\n",
        "SEED = 42\n",
        "random.seed(SEED); np.random.seed(SEED)\n",
        "\n",
        "plt.rcParams[\"figure.figsize\"] = (6,4)\n",
        "plt.rcParams[\"figure.dpi\"] = 120"
      ],
      "metadata": {
        "id": "RGpLVU7StEjY"
      },
      "execution_count": 5,
      "outputs": []
    },
    {
      "cell_type": "markdown",
      "source": [
        "- 재현성을 위해 시드 고정\n",
        "- 그래프 크기 및 해상도 설정"
      ],
      "metadata": {
        "id": "_pWsHtsKv4jQ"
      }
    },
    {
      "cell_type": "code",
      "source": [
        "# 3. 데이터 불러오기 (IMDb)\n",
        "dataset = load_dataset(\"imdb\")\n",
        "train_texts = [x[\"text\"] for x in dataset[\"train\"]]\n",
        "test_texts  = [x[\"text\"] for x in dataset[\"test\"].select(range(5000))]  # select로 5k 샘플링\n",
        "len(train_texts), len(test_texts)"
      ],
      "metadata": {
        "colab": {
          "base_uri": "https://localhost:8080/"
        },
        "id": "WO3bBpJjtIZd",
        "outputId": "878b30bd-a023-4828-def2-6b4d3c9a171b"
      },
      "execution_count": 6,
      "outputs": [
        {
          "output_type": "execute_result",
          "data": {
            "text/plain": [
              "(25000, 5000)"
            ]
          },
          "metadata": {},
          "execution_count": 6
        }
      ]
    },
    {
      "cell_type": "markdown",
      "source": [
        "- IMDb 영화 리뷰 데이터셋 불러오기\n",
        "- 학습에는 전체 train set, 평가에는 test set에서 5,000개 샘플 사용\n",
        "- `select`를 사용해 TypeError 방지"
      ],
      "metadata": {
        "id": "jtQOFD0puvgq"
      }
    },
    {
      "cell_type": "code",
      "source": [
        "# 4. 공통 설정\n",
        "VOCAB_SIZE = 8000\n",
        "SPECIAL_TOKENS = [\"[PAD]\", \"[UNK]\", \"[CLS]\", \"[SEP]\", \"[MASK]\"]"
      ],
      "metadata": {
        "id": "HuOAUVektLwY"
      },
      "execution_count": 7,
      "outputs": []
    },
    {
      "cell_type": "markdown",
      "source": [
        "- vocab 크기 8,000\n",
        "- 스페셜 토큰 정의: 패딩, OOV, 문장 시작/끝, 마스크"
      ],
      "metadata": {
        "id": "U7HNN9lbwPEg"
      }
    },
    {
      "cell_type": "code",
      "source": [
        "# 5. WordLevel 토크나이저 학습 (단어 단위)\n",
        "# Normalizer: 소문자 + NFKC\n",
        "# PreTokenizer: 공백 기반\n",
        "wordlevel_tokenizer = Tokenizer(WordLevel(unk_token=\"[UNK]\"))\n",
        "wordlevel_tokenizer.normalizer = Sequence([NFKC(), Lowercase()])\n",
        "wordlevel_tokenizer.pre_tokenizer = Whitespace()\n",
        "\n",
        "trainer_word = WordLevelTrainer(\n",
        "    vocab_size=VOCAB_SIZE,\n",
        "    special_tokens=SPECIAL_TOKENS,\n",
        "    min_frequency=2\n",
        ")\n",
        "\n",
        "wordlevel_tokenizer.train_from_iterator(train_texts, trainer=trainer_word)\n",
        "\n",
        "# Post-processor (BERT 스타일은 아니지만 [CLS] [SEP]로 문장 경계만 표시)\n",
        "wordlevel_tokenizer.post_processor = TemplateProcessing(\n",
        "    single=\"[CLS] $A [SEP]\",\n",
        "    pair=\"[CLS] $A [SEP] $B:1 [SEP]:1\",\n",
        "    special_tokens=[(\"[CLS]\", wordlevel_tokenizer.token_to_id(\"[CLS]\")),\n",
        "                    (\"[SEP]\", wordlevel_tokenizer.token_to_id(\"[SEP]\"))]\n",
        ")"
      ],
      "metadata": {
        "id": "WwNmT5gjtOQg"
      },
      "execution_count": 8,
      "outputs": []
    },
    {
      "cell_type": "markdown",
      "source": [
        "1. wordlevel_tokenizer\n",
        "  - 공백 기준 단어 분리\n",
        "  - 소문자 변환 + NFKC 정규화\n",
        "  - OOV 토큰: `[UNK]`\n",
        "2. trainer_word\n",
        "  - 단어 빈도 2 이상만 vocab 포함\n",
        "  - 전체 train_texts로 학습\n",
        "3. wordlevel_tokenizer\n",
        "  - 각 문장 시작/끝에 [CLS]/[SEP] 추가\n",
        "  - BERT 스타일 처리"
      ],
      "metadata": {
        "id": "LiNeb-kmvBM1"
      }
    },
    {
      "cell_type": "code",
      "source": [
        "# 6. WordPiece 토크나이저 학습 (서브워드)\n",
        "# BPE로 바꾸려면 WordPiece → BPE, WordPieceTrainer → BpeTrainer로 바꾸면 됨.\n",
        "wordpiece_tokenizer = Tokenizer(WordPiece(unk_token=\"[UNK]\"))\n",
        "wordpiece_tokenizer.normalizer = Sequence([NFKC(), Lowercase()])\n",
        "wordpiece_tokenizer.pre_tokenizer = BertPreTokenizer()  # 단어/서브워드 경계에 유리\n",
        "\n",
        "trainer_wp = WordPieceTrainer(\n",
        "    vocab_size=VOCAB_SIZE,\n",
        "    special_tokens=SPECIAL_TOKENS,\n",
        "    min_frequency=2\n",
        ")\n",
        "\n",
        "wordpiece_tokenizer.train_from_iterator(train_texts, trainer=trainer_wp)\n",
        "\n",
        "wordpiece_tokenizer.post_processor = TemplateProcessing(\n",
        "    single=\"[CLS] $A [SEP]\",\n",
        "    pair=\"[CLS] $A [SEP] $B:1 [SEP]:1\",\n",
        "    special_tokens=[(\"[CLS]\", wordpiece_tokenizer.token_to_id(\"[CLS]\")),\n",
        "                    (\"[SEP]\", wordpiece_tokenizer.token_to_id(\"[SEP]\"))]\n",
        ")"
      ],
      "metadata": {
        "id": "zDfpgNUEtT9T"
      },
      "execution_count": 9,
      "outputs": []
    },
    {
      "cell_type": "markdown",
      "source": [
        "1. wordpiece_tokenizer\n",
        "  - BertPreTokenizer 사용 -> 단어 경계 + 서브워드 처리\n",
        "2. trainer_wp\n",
        "  - WordLevel과 동일한 vocab 크기/스페셜 토큰/빈도 조건\n",
        "3. wordpiece_tokenizer\n",
        "  - WordLevle과 동일하게 문장 시작/끝 처리"
      ],
      "metadata": {
        "id": "G04-7vZOvYKW"
      }
    },
    {
      "cell_type": "code",
      "source": [
        "# 7. 유틸 함수: 인코딩/지표 계산\n",
        "from typing import Dict, List, Tuple\n",
        "\n",
        "def encode_batch(tokenizer: Tokenizer, texts: List[str]):\n",
        "    return tokenizer.encode_batch(texts)\n",
        "\n",
        "def sentence_length_stats(encodings):\n",
        "    lengths = [len(enc.ids) for enc in encodings]\n",
        "    arr = np.array(lengths)\n",
        "    stats = {\n",
        "        \"mean\": float(arr.mean()),\n",
        "        \"median\": float(np.median(arr)),\n",
        "        \"p25\": float(np.percentile(arr, 25)),\n",
        "        \"p75\": float(np.percentile(arr, 75)),\n",
        "    }\n",
        "    return lengths, stats\n",
        "\n",
        "def oov_rate(encodings, unk_id: int):\n",
        "    total_tokens = 0\n",
        "    unk_tokens = 0\n",
        "    for enc in encodings:\n",
        "        ids = enc.ids\n",
        "        total_tokens += len(ids)\n",
        "        unk_tokens += sum(1 for i in ids if i == unk_id)\n",
        "    return (unk_tokens / max(total_tokens,1)), unk_tokens, total_tokens\n",
        "\n",
        "def simple_decode(tokenizer: Tokenizer, encodings):\n",
        "    # 토크나이저 decode 사용 (post-processor 토큰은 제거됨)\n",
        "    return [tokenizer.decode(enc.ids) for enc in encodings]\n",
        "\n",
        "def rough_reconstruction_score(originals: List[str], decodeds: List[str]) -> float:\n",
        "    # 아주 단순한 유사도: 공백 단위 Jaccard\n",
        "    def jaccard(a, b):\n",
        "        A = set(a.lower().split())\n",
        "        B = set(b.lower().split())\n",
        "        if not A and not B: return 1.0\n",
        "        return len(A & B) / max(len(A | B), 1)\n",
        "    scores = [jaccard(o, d) for o, d in zip(originals, decodeds)]\n",
        "    return float(np.mean(scores))\n",
        "\n",
        "def topk_coverage(tokenizer: Tokenizer, encodings, ks=(100, 500, 1000, 2000, 4000, 8000)):\n",
        "    # 토큰 빈도 상위 k가 전체 토큰의 몇 %를 덮는가\n",
        "    from collections import Counter\n",
        "    cnt = Counter()\n",
        "    for enc in encodings:\n",
        "        cnt.update(enc.ids)\n",
        "    total = sum(cnt.values())\n",
        "    # 스페셜 토큰 제외\n",
        "    special_ids = set(tokenizer.token_to_id(t) for t in SPECIAL_TOKENS if tokenizer.token_to_id(t) is not None)\n",
        "    items = [(tid, c) for tid, c in cnt.items() if tid not in special_ids]\n",
        "    items.sort(key=lambda x: x[1], reverse=True)\n",
        "    cum = np.cumsum([c for _, c in items])\n",
        "    ks = [k for k in ks if k <= len(items)]\n",
        "    result = {}\n",
        "    for k in ks:\n",
        "        cover = cum[k-1] / max(total,1)\n",
        "        result[k] = float(cover)\n",
        "    return result"
      ],
      "metadata": {
        "id": "jnV9i1untehY"
      },
      "execution_count": 10,
      "outputs": []
    },
    {
      "cell_type": "markdown",
      "source": [
        "- 테스트 문장 인코딩 -> 토큰 수, OOV 비율, 복원률, 커버리지 계산\n",
        "- WordPiece는 희귀어를 subword로 분할 -> OOV 감소"
      ],
      "metadata": {
        "id": "gtqYssaixloX"
      }
    },
    {
      "cell_type": "code",
      "source": [
        "# 8. 인코딩 & 지표 계산\n",
        "# 인코딩\n",
        "enc_word = encode_batch(wordlevel_tokenizer, test_texts)\n",
        "enc_wp   = encode_batch(wordpiece_tokenizer, test_texts)\n",
        "\n",
        "# 길이 통계\n",
        "len_w, stats_w = sentence_length_stats(enc_word)\n",
        "len_wp, stats_wp = sentence_length_stats(enc_wp)\n",
        "\n",
        "# OOV\n",
        "unk_w = wordlevel_tokenizer.token_to_id(\"[UNK]\")\n",
        "unk_wp = wordpiece_tokenizer.token_to_id(\"[UNK]\")\n",
        "\n",
        "oov_w, unkcnt_w, total_w = oov_rate(enc_word, unk_w)\n",
        "oov_wp, unkcnt_wp, total_wp = oov_rate(enc_wp, unk_wp)\n",
        "\n",
        "# 복원률\n",
        "dec_w = simple_decode(wordlevel_tokenizer, enc_word)\n",
        "dec_wp = simple_decode(wordpiece_tokenizer, enc_wp)\n",
        "\n",
        "recon_w  = rough_reconstruction_score(test_texts, dec_w)\n",
        "recon_wp = rough_reconstruction_score(test_texts, dec_wp)\n",
        "\n",
        "# 커버리지\n",
        "cov_w  = topk_coverage(wordlevel_tokenizer, enc_word)\n",
        "cov_wp = topk_coverage(wordpiece_tokenizer, enc_wp)\n",
        "\n",
        "summary = pd.DataFrame([\n",
        "    [\"평균 길이\", stats_w[\"mean\"], stats_wp[\"mean\"]],\n",
        "    [\"중앙값 길이\", stats_w[\"median\"], stats_wp[\"median\"]],\n",
        "    [\"IQR(25~75)\", f'{stats_w[\"p25\"]:.1f}~{stats_w[\"p75\"]:.1f}', f'{stats_wp[\"p25\"]:.1f}~{stats_wp[\"p75\"]:.1f}'],\n",
        "    [\"OOV 비율\", oov_w, oov_wp],\n",
        "    [\"복원률(Jaccard)\", recon_w, recon_wp],\n",
        "], columns=[\"지표\",\"WordLevel\",\"WordPiece\"])\n",
        "summary"
      ],
      "metadata": {
        "colab": {
          "base_uri": "https://localhost:8080/",
          "height": 206
        },
        "id": "R5eew0TKthhs",
        "outputId": "2b370179-feec-4e3b-8041-a56ba0098d9b"
      },
      "execution_count": 11,
      "outputs": [
        {
          "output_type": "execute_result",
          "data": {
            "text/plain": [
              "             지표    WordLevel    WordPiece\n",
              "0         평균 길이     278.0764      321.922\n",
              "1        중앙값 길이        212.0        243.0\n",
              "2    IQR(25~75)  156.0~335.0  176.0~388.0\n",
              "3        OOV 비율     0.054469     0.000001\n",
              "4  복원률(Jaccard)     0.585706     0.472575"
            ],
            "text/html": [
              "\n",
              "  <div id=\"df-15742f6b-2120-4ad6-9b88-7e1c0109ab53\" class=\"colab-df-container\">\n",
              "    <div>\n",
              "<style scoped>\n",
              "    .dataframe tbody tr th:only-of-type {\n",
              "        vertical-align: middle;\n",
              "    }\n",
              "\n",
              "    .dataframe tbody tr th {\n",
              "        vertical-align: top;\n",
              "    }\n",
              "\n",
              "    .dataframe thead th {\n",
              "        text-align: right;\n",
              "    }\n",
              "</style>\n",
              "<table border=\"1\" class=\"dataframe\">\n",
              "  <thead>\n",
              "    <tr style=\"text-align: right;\">\n",
              "      <th></th>\n",
              "      <th>지표</th>\n",
              "      <th>WordLevel</th>\n",
              "      <th>WordPiece</th>\n",
              "    </tr>\n",
              "  </thead>\n",
              "  <tbody>\n",
              "    <tr>\n",
              "      <th>0</th>\n",
              "      <td>평균 길이</td>\n",
              "      <td>278.0764</td>\n",
              "      <td>321.922</td>\n",
              "    </tr>\n",
              "    <tr>\n",
              "      <th>1</th>\n",
              "      <td>중앙값 길이</td>\n",
              "      <td>212.0</td>\n",
              "      <td>243.0</td>\n",
              "    </tr>\n",
              "    <tr>\n",
              "      <th>2</th>\n",
              "      <td>IQR(25~75)</td>\n",
              "      <td>156.0~335.0</td>\n",
              "      <td>176.0~388.0</td>\n",
              "    </tr>\n",
              "    <tr>\n",
              "      <th>3</th>\n",
              "      <td>OOV 비율</td>\n",
              "      <td>0.054469</td>\n",
              "      <td>0.000001</td>\n",
              "    </tr>\n",
              "    <tr>\n",
              "      <th>4</th>\n",
              "      <td>복원률(Jaccard)</td>\n",
              "      <td>0.585706</td>\n",
              "      <td>0.472575</td>\n",
              "    </tr>\n",
              "  </tbody>\n",
              "</table>\n",
              "</div>\n",
              "    <div class=\"colab-df-buttons\">\n",
              "\n",
              "  <div class=\"colab-df-container\">\n",
              "    <button class=\"colab-df-convert\" onclick=\"convertToInteractive('df-15742f6b-2120-4ad6-9b88-7e1c0109ab53')\"\n",
              "            title=\"Convert this dataframe to an interactive table.\"\n",
              "            style=\"display:none;\">\n",
              "\n",
              "  <svg xmlns=\"http://www.w3.org/2000/svg\" height=\"24px\" viewBox=\"0 -960 960 960\">\n",
              "    <path d=\"M120-120v-720h720v720H120Zm60-500h600v-160H180v160Zm220 220h160v-160H400v160Zm0 220h160v-160H400v160ZM180-400h160v-160H180v160Zm440 0h160v-160H620v160ZM180-180h160v-160H180v160Zm440 0h160v-160H620v160Z\"/>\n",
              "  </svg>\n",
              "    </button>\n",
              "\n",
              "  <style>\n",
              "    .colab-df-container {\n",
              "      display:flex;\n",
              "      gap: 12px;\n",
              "    }\n",
              "\n",
              "    .colab-df-convert {\n",
              "      background-color: #E8F0FE;\n",
              "      border: none;\n",
              "      border-radius: 50%;\n",
              "      cursor: pointer;\n",
              "      display: none;\n",
              "      fill: #1967D2;\n",
              "      height: 32px;\n",
              "      padding: 0 0 0 0;\n",
              "      width: 32px;\n",
              "    }\n",
              "\n",
              "    .colab-df-convert:hover {\n",
              "      background-color: #E2EBFA;\n",
              "      box-shadow: 0px 1px 2px rgba(60, 64, 67, 0.3), 0px 1px 3px 1px rgba(60, 64, 67, 0.15);\n",
              "      fill: #174EA6;\n",
              "    }\n",
              "\n",
              "    .colab-df-buttons div {\n",
              "      margin-bottom: 4px;\n",
              "    }\n",
              "\n",
              "    [theme=dark] .colab-df-convert {\n",
              "      background-color: #3B4455;\n",
              "      fill: #D2E3FC;\n",
              "    }\n",
              "\n",
              "    [theme=dark] .colab-df-convert:hover {\n",
              "      background-color: #434B5C;\n",
              "      box-shadow: 0px 1px 3px 1px rgba(0, 0, 0, 0.15);\n",
              "      filter: drop-shadow(0px 1px 2px rgba(0, 0, 0, 0.3));\n",
              "      fill: #FFFFFF;\n",
              "    }\n",
              "  </style>\n",
              "\n",
              "    <script>\n",
              "      const buttonEl =\n",
              "        document.querySelector('#df-15742f6b-2120-4ad6-9b88-7e1c0109ab53 button.colab-df-convert');\n",
              "      buttonEl.style.display =\n",
              "        google.colab.kernel.accessAllowed ? 'block' : 'none';\n",
              "\n",
              "      async function convertToInteractive(key) {\n",
              "        const element = document.querySelector('#df-15742f6b-2120-4ad6-9b88-7e1c0109ab53');\n",
              "        const dataTable =\n",
              "          await google.colab.kernel.invokeFunction('convertToInteractive',\n",
              "                                                    [key], {});\n",
              "        if (!dataTable) return;\n",
              "\n",
              "        const docLinkHtml = 'Like what you see? Visit the ' +\n",
              "          '<a target=\"_blank\" href=https://colab.research.google.com/notebooks/data_table.ipynb>data table notebook</a>'\n",
              "          + ' to learn more about interactive tables.';\n",
              "        element.innerHTML = '';\n",
              "        dataTable['output_type'] = 'display_data';\n",
              "        await google.colab.output.renderOutput(dataTable, element);\n",
              "        const docLink = document.createElement('div');\n",
              "        docLink.innerHTML = docLinkHtml;\n",
              "        element.appendChild(docLink);\n",
              "      }\n",
              "    </script>\n",
              "  </div>\n",
              "\n",
              "\n",
              "    <div id=\"df-f30501a9-d40b-4972-b95e-1dd6d7e29509\">\n",
              "      <button class=\"colab-df-quickchart\" onclick=\"quickchart('df-f30501a9-d40b-4972-b95e-1dd6d7e29509')\"\n",
              "                title=\"Suggest charts\"\n",
              "                style=\"display:none;\">\n",
              "\n",
              "<svg xmlns=\"http://www.w3.org/2000/svg\" height=\"24px\"viewBox=\"0 0 24 24\"\n",
              "     width=\"24px\">\n",
              "    <g>\n",
              "        <path d=\"M19 3H5c-1.1 0-2 .9-2 2v14c0 1.1.9 2 2 2h14c1.1 0 2-.9 2-2V5c0-1.1-.9-2-2-2zM9 17H7v-7h2v7zm4 0h-2V7h2v10zm4 0h-2v-4h2v4z\"/>\n",
              "    </g>\n",
              "</svg>\n",
              "      </button>\n",
              "\n",
              "<style>\n",
              "  .colab-df-quickchart {\n",
              "      --bg-color: #E8F0FE;\n",
              "      --fill-color: #1967D2;\n",
              "      --hover-bg-color: #E2EBFA;\n",
              "      --hover-fill-color: #174EA6;\n",
              "      --disabled-fill-color: #AAA;\n",
              "      --disabled-bg-color: #DDD;\n",
              "  }\n",
              "\n",
              "  [theme=dark] .colab-df-quickchart {\n",
              "      --bg-color: #3B4455;\n",
              "      --fill-color: #D2E3FC;\n",
              "      --hover-bg-color: #434B5C;\n",
              "      --hover-fill-color: #FFFFFF;\n",
              "      --disabled-bg-color: #3B4455;\n",
              "      --disabled-fill-color: #666;\n",
              "  }\n",
              "\n",
              "  .colab-df-quickchart {\n",
              "    background-color: var(--bg-color);\n",
              "    border: none;\n",
              "    border-radius: 50%;\n",
              "    cursor: pointer;\n",
              "    display: none;\n",
              "    fill: var(--fill-color);\n",
              "    height: 32px;\n",
              "    padding: 0;\n",
              "    width: 32px;\n",
              "  }\n",
              "\n",
              "  .colab-df-quickchart:hover {\n",
              "    background-color: var(--hover-bg-color);\n",
              "    box-shadow: 0 1px 2px rgba(60, 64, 67, 0.3), 0 1px 3px 1px rgba(60, 64, 67, 0.15);\n",
              "    fill: var(--button-hover-fill-color);\n",
              "  }\n",
              "\n",
              "  .colab-df-quickchart-complete:disabled,\n",
              "  .colab-df-quickchart-complete:disabled:hover {\n",
              "    background-color: var(--disabled-bg-color);\n",
              "    fill: var(--disabled-fill-color);\n",
              "    box-shadow: none;\n",
              "  }\n",
              "\n",
              "  .colab-df-spinner {\n",
              "    border: 2px solid var(--fill-color);\n",
              "    border-color: transparent;\n",
              "    border-bottom-color: var(--fill-color);\n",
              "    animation:\n",
              "      spin 1s steps(1) infinite;\n",
              "  }\n",
              "\n",
              "  @keyframes spin {\n",
              "    0% {\n",
              "      border-color: transparent;\n",
              "      border-bottom-color: var(--fill-color);\n",
              "      border-left-color: var(--fill-color);\n",
              "    }\n",
              "    20% {\n",
              "      border-color: transparent;\n",
              "      border-left-color: var(--fill-color);\n",
              "      border-top-color: var(--fill-color);\n",
              "    }\n",
              "    30% {\n",
              "      border-color: transparent;\n",
              "      border-left-color: var(--fill-color);\n",
              "      border-top-color: var(--fill-color);\n",
              "      border-right-color: var(--fill-color);\n",
              "    }\n",
              "    40% {\n",
              "      border-color: transparent;\n",
              "      border-right-color: var(--fill-color);\n",
              "      border-top-color: var(--fill-color);\n",
              "    }\n",
              "    60% {\n",
              "      border-color: transparent;\n",
              "      border-right-color: var(--fill-color);\n",
              "    }\n",
              "    80% {\n",
              "      border-color: transparent;\n",
              "      border-right-color: var(--fill-color);\n",
              "      border-bottom-color: var(--fill-color);\n",
              "    }\n",
              "    90% {\n",
              "      border-color: transparent;\n",
              "      border-bottom-color: var(--fill-color);\n",
              "    }\n",
              "  }\n",
              "</style>\n",
              "\n",
              "      <script>\n",
              "        async function quickchart(key) {\n",
              "          const quickchartButtonEl =\n",
              "            document.querySelector('#' + key + ' button');\n",
              "          quickchartButtonEl.disabled = true;  // To prevent multiple clicks.\n",
              "          quickchartButtonEl.classList.add('colab-df-spinner');\n",
              "          try {\n",
              "            const charts = await google.colab.kernel.invokeFunction(\n",
              "                'suggestCharts', [key], {});\n",
              "          } catch (error) {\n",
              "            console.error('Error during call to suggestCharts:', error);\n",
              "          }\n",
              "          quickchartButtonEl.classList.remove('colab-df-spinner');\n",
              "          quickchartButtonEl.classList.add('colab-df-quickchart-complete');\n",
              "        }\n",
              "        (() => {\n",
              "          let quickchartButtonEl =\n",
              "            document.querySelector('#df-f30501a9-d40b-4972-b95e-1dd6d7e29509 button');\n",
              "          quickchartButtonEl.style.display =\n",
              "            google.colab.kernel.accessAllowed ? 'block' : 'none';\n",
              "        })();\n",
              "      </script>\n",
              "    </div>\n",
              "\n",
              "  <div id=\"id_2ef16314-ec6b-4b44-9f25-acea1d8dc22a\">\n",
              "    <style>\n",
              "      .colab-df-generate {\n",
              "        background-color: #E8F0FE;\n",
              "        border: none;\n",
              "        border-radius: 50%;\n",
              "        cursor: pointer;\n",
              "        display: none;\n",
              "        fill: #1967D2;\n",
              "        height: 32px;\n",
              "        padding: 0 0 0 0;\n",
              "        width: 32px;\n",
              "      }\n",
              "\n",
              "      .colab-df-generate:hover {\n",
              "        background-color: #E2EBFA;\n",
              "        box-shadow: 0px 1px 2px rgba(60, 64, 67, 0.3), 0px 1px 3px 1px rgba(60, 64, 67, 0.15);\n",
              "        fill: #174EA6;\n",
              "      }\n",
              "\n",
              "      [theme=dark] .colab-df-generate {\n",
              "        background-color: #3B4455;\n",
              "        fill: #D2E3FC;\n",
              "      }\n",
              "\n",
              "      [theme=dark] .colab-df-generate:hover {\n",
              "        background-color: #434B5C;\n",
              "        box-shadow: 0px 1px 3px 1px rgba(0, 0, 0, 0.15);\n",
              "        filter: drop-shadow(0px 1px 2px rgba(0, 0, 0, 0.3));\n",
              "        fill: #FFFFFF;\n",
              "      }\n",
              "    </style>\n",
              "    <button class=\"colab-df-generate\" onclick=\"generateWithVariable('summary')\"\n",
              "            title=\"Generate code using this dataframe.\"\n",
              "            style=\"display:none;\">\n",
              "\n",
              "  <svg xmlns=\"http://www.w3.org/2000/svg\" height=\"24px\"viewBox=\"0 0 24 24\"\n",
              "       width=\"24px\">\n",
              "    <path d=\"M7,19H8.4L18.45,9,17,7.55,7,17.6ZM5,21V16.75L18.45,3.32a2,2,0,0,1,2.83,0l1.4,1.43a1.91,1.91,0,0,1,.58,1.4,1.91,1.91,0,0,1-.58,1.4L9.25,21ZM18.45,9,17,7.55Zm-12,3A5.31,5.31,0,0,0,4.9,8.1,5.31,5.31,0,0,0,1,6.5,5.31,5.31,0,0,0,4.9,4.9,5.31,5.31,0,0,0,6.5,1,5.31,5.31,0,0,0,8.1,4.9,5.31,5.31,0,0,0,12,6.5,5.46,5.46,0,0,0,6.5,12Z\"/>\n",
              "  </svg>\n",
              "    </button>\n",
              "    <script>\n",
              "      (() => {\n",
              "      const buttonEl =\n",
              "        document.querySelector('#id_2ef16314-ec6b-4b44-9f25-acea1d8dc22a button.colab-df-generate');\n",
              "      buttonEl.style.display =\n",
              "        google.colab.kernel.accessAllowed ? 'block' : 'none';\n",
              "\n",
              "      buttonEl.onclick = () => {\n",
              "        google.colab.notebook.generateWithVariable('summary');\n",
              "      }\n",
              "      })();\n",
              "    </script>\n",
              "  </div>\n",
              "\n",
              "    </div>\n",
              "  </div>\n"
            ],
            "application/vnd.google.colaboratory.intrinsic+json": {
              "type": "dataframe",
              "variable_name": "summary",
              "summary": "{\n  \"name\": \"summary\",\n  \"rows\": 5,\n  \"fields\": [\n    {\n      \"column\": \"\\uc9c0\\ud45c\",\n      \"properties\": {\n        \"dtype\": \"string\",\n        \"num_unique_values\": 5,\n        \"samples\": [\n          \"\\uc911\\uc559\\uac12 \\uae38\\uc774\",\n          \"\\ubcf5\\uc6d0\\ub960(Jaccard)\",\n          \"IQR(25~75)\"\n        ],\n        \"semantic_type\": \"\",\n        \"description\": \"\"\n      }\n    },\n    {\n      \"column\": \"WordLevel\",\n      \"properties\": {\n        \"dtype\": \"string\",\n        \"num_unique_values\": 5,\n        \"samples\": [\n          212.0,\n          0.5857060498472431,\n          \"156.0~335.0\"\n        ],\n        \"semantic_type\": \"\",\n        \"description\": \"\"\n      }\n    },\n    {\n      \"column\": \"WordPiece\",\n      \"properties\": {\n        \"dtype\": \"string\",\n        \"num_unique_values\": 5,\n        \"samples\": [\n          243.0,\n          0.4725747767095256,\n          \"176.0~388.0\"\n        ],\n        \"semantic_type\": \"\",\n        \"description\": \"\"\n      }\n    }\n  ]\n}"
            }
          },
          "metadata": {},
          "execution_count": 11
        }
      ]
    },
    {
      "cell_type": "markdown",
      "source": [
        "- WordLevle vs WordPiece 비교용 지표 모두 계산\n",
        "- 평균 길이, 중앙값, IQR, OOV 비율, 복원률 표로 정리"
      ],
      "metadata": {
        "id": "uOQ0eIgmxt_x"
      }
    },
    {
      "cell_type": "code",
      "source": [
        "# 9. 시각화\n",
        "# (1) 문장 길이 히스토그램\n",
        "plt.figure()\n",
        "plt.hist(len_w, bins=50, alpha=0.6, label=\"WordLevel\")\n",
        "plt.hist(len_wp, bins=50, alpha=0.6, label=\"WordPiece\")\n",
        "plt.title(\"Sentence Length Distribution (token count)\")\n",
        "plt.xlabel(\"Number of tokens\"); plt.ylabel(\"Number of sentences\")\n",
        "plt.legend(); plt.show()\n",
        "\n",
        "# (2) OOV 비율 막대\n",
        "plt.figure()\n",
        "plt.bar([\"WordLevel\",\"WordPiece\"], [oov_w, oov_wp])\n",
        "plt.title(\"OOV ([UNK]) Ratio\")\n",
        "plt.ylabel(\"Ratio\")\n",
        "plt.show()\n",
        "\n",
        "# (3) 커버리지 누적 곡선\n",
        "ks_sorted = sorted(set(list(cov_w.keys()) + list(cov_wp.keys())))\n",
        "cov_w_list = [cov_w.get(k, np.nan) for k in ks_sorted]\n",
        "cov_wp_list = [cov_wp.get(k, np.nan) for k in ks_sorted]\n",
        "\n",
        "plt.figure()\n",
        "plt.plot(ks_sorted, cov_w_list, marker='o', label=\"WordLevel\")\n",
        "plt.plot(ks_sorted, cov_wp_list, marker='o', label=\"WordPiece\")\n",
        "plt.title(\"Top-K Token Coverage\")\n",
        "plt.xlabel(\"K (top tokens)\"); plt.ylabel(\"Coverage ratio\")\n",
        "plt.legend(); plt.grid(True, alpha=0.3)\n",
        "plt.show()"
      ],
      "metadata": {
        "colab": {
          "base_uri": "https://localhost:8080/",
          "height": 1000
        },
        "id": "oTUQDTxytjWn",
        "outputId": "56f97781-915d-4c82-a75f-684af55f12c5"
      },
      "execution_count": 14,
      "outputs": [
        {
          "output_type": "display_data",
          "data": {
            "text/plain": [
              "<Figure size 720x480 with 1 Axes>"
            ],
            "image/png": "[encoded data removed]"
          },
          "metadata": {}
        },
        {
          "output_type": "display_data",
          "data": {
            "text/plain": [
              "<Figure size 720x480 with 1 Axes>"
            ],
            "image/png": "[encoded data removed]"
          },
          "metadata": {}
        },
        {
          "output_type": "display_data",
          "data": {
            "text/plain": [
              "<Figure size 720x480 with 1 Axes>"
            ],
            "image/png": "[encoded data removed]"
          },
          "metadata": {}
        }
      ]
    },
    {
      "cell_type": "code",
      "source": [
        "# 10. 샘플 토큰화 비교 보기\n",
        "SAMPLES = 5\n",
        "for i in range(SAMPLES):\n",
        "    sent = test_texts[i]\n",
        "    e_w = wordlevel_tokenizer.encode(sent)\n",
        "    e_wp = wordpiece_tokenizer.encode(sent)\n",
        "\n",
        "    print(f\"[원문 {i}] {sent[:200].replace('\\\\n',' ')}...\")\n",
        "    print(f\" WordLevel ({len(e_w.tokens)} tokens): {e_w.tokens[:30]}{' ...' if len(e_w.tokens)>30 else ''}\")\n",
        "    print(f\" WordPiece ({len(e_wp.tokens)} tokens): {e_wp.tokens[:30]}{' ...' if len(e_wp.tokens)>30 else ''}\")\n",
        "    print(\"-\"*80)"
      ],
      "metadata": {
        "colab": {
          "base_uri": "https://localhost:8080/"
        },
        "id": "Ub4jmVFbtojU",
        "outputId": "d312d133-58db-45d1-8b58-bebd15d7f856"
      },
      "execution_count": 13,
      "outputs": [
        {
          "output_type": "stream",
          "name": "stdout",
          "text": [
            "[원문 0] I love sci-fi and am willing to put up with a lot. Sci-fi movies/TV are usually underfunded, under-appreciated and misunderstood. I tried to like this, I really did, but it is to good TV sci-fi as Bab...\n",
            " WordLevel (308 tokens): ['[CLS]', 'i', 'love', 'sci', '-', 'fi', 'and', 'am', 'willing', 'to', 'put', 'up', 'with', 'a', 'lot', '.', 'sci', '-', 'fi', 'movies', '/', 'tv', 'are', 'usually', '[UNK]', ',', 'under', '-', 'appreciated', 'and'] ...\n",
            " WordPiece (347 tokens): ['[CLS]', 'i', 'love', 'sci', '-', 'fi', 'and', 'am', 'willing', 'to', 'put', 'up', 'with', 'a', 'lot', '.', 'sci', '-', 'fi', 'movies', '/', 'tv', 'are', 'usually', 'under', '##fun', '##de', '##d', ',', 'under'] ...\n",
            "--------------------------------------------------------------------------------\n",
            "[원문 1] Worth the entertainment value of a rental, especially if you like action movies. This one features the usual car chases, fights with the great Van Damme kick style, shooting battles with the 40 shell ...\n",
            " WordLevel (261 tokens): ['[CLS]', 'worth', 'the', 'entertainment', 'value', 'of', 'a', 'rental', ',', 'especially', 'if', 'you', 'like', 'action', 'movies', '.', 'this', 'one', 'features', 'the', 'usual', 'car', 'chases', ',', 'fights', 'with', 'the', 'great', 'van', 'damme'] ...\n",
            " WordPiece (301 tokens): ['[CLS]', 'worth', 'the', 'entertainment', 'value', 'of', 'a', 'rental', ',', 'especially', 'if', 'you', 'like', 'action', 'movies', '.', 'this', 'one', 'features', 'the', 'usual', 'car', 'chases', ',', 'fights', 'with', 'the', 'great', 'van', 'dam'] ...\n",
            "--------------------------------------------------------------------------------\n",
            "[원문 2] its a totally average film with a few semi-alright action sequences that make the plot seem a little better and remind the viewer of the classic van dam films. parts of the plot don't make sense and s...\n",
            " WordLevel (151 tokens): ['[CLS]', 'its', 'a', 'totally', 'average', 'film', 'with', 'a', 'few', 'semi', '-', 'alright', 'action', 'sequences', 'that', 'make', 'the', 'plot', 'seem', 'a', 'little', 'better', 'and', 'remind', 'the', 'viewer', 'of', 'the', 'classic', 'van'] ...\n",
            " WordPiece (157 tokens): ['[CLS]', 'its', 'a', 'totally', 'average', 'film', 'with', 'a', 'few', 'semi', '-', 'alright', 'action', 'sequences', 'that', 'make', 'the', 'plot', 'seem', 'a', 'little', 'better', 'and', 'remind', 'the', 'viewer', 'of', 'the', 'classic', 'van'] ...\n",
            "--------------------------------------------------------------------------------\n",
            "[원문 3] STAR RATING: ***** Saturday Night **** Friday Night *** Friday Morning ** Sunday Night * Monday Morning <br /><br />Former New Orleans homicide cop Jack Robideaux (Jean Claude Van Damme) is re-assigne...\n",
            " WordLevel (436 tokens): ['[CLS]', 'star', 'rating', ':', '*****', 'saturday', 'night', '****', 'friday', 'night', '***', 'friday', 'morning', '**', 'sunday', 'night', '*', '[UNK]', 'morning', '<', 'br', '/><', 'br', '/>', 'former', 'new', 'orleans', 'homicide', 'cop', 'jack'] ...\n",
            " WordPiece (531 tokens): ['[CLS]', 'star', 'rating', ':', '*', '*', '*', '*', '*', 'saturday', 'night', '*', '*', '*', '*', 'friday', 'night', '*', '*', '*', 'friday', 'morning', '*', '*', 'sunday', 'night', '*', 'mon', '##day', 'morning'] ...\n",
            "--------------------------------------------------------------------------------\n",
            "[원문 4] First off let me say, If you haven't enjoyed a Van Damme movie since bloodsport, you probably will not like this movie. Most of these movies may not have the best plots or best actors but I enjoy thes...\n",
            " WordLevel (155 tokens): ['[CLS]', 'first', 'off', 'let', 'me', 'say', ',', 'if', 'you', 'haven', \"'\", 't', 'enjoyed', 'a', 'van', 'damme', 'movie', 'since', '[UNK]', ',', 'you', 'probably', 'will', 'not', 'like', 'this', 'movie', '.', 'most', 'of'] ...\n",
            " WordPiece (163 tokens): ['[CLS]', 'first', 'off', 'let', 'me', 'say', ',', 'if', 'you', 'haven', \"'\", 't', 'enjoyed', 'a', 'van', 'dam', '##me', 'movie', 'since', 'blood', '##sp', '##ort', ',', 'you', 'probably', 'will', 'not', 'like', 'this', 'movie'] ...\n",
            "--------------------------------------------------------------------------------\n"
          ]
        }
      ]
    },
    {
      "cell_type": "markdown",
      "source": [
        "- 실제 문장에서 WordLevle vs WordPiece 토큰화 비교\n",
        "- WordPiece: 긴 단어 여러 subword로 분할"
      ],
      "metadata": {
        "id": "pi2emvVsx2u1"
      }
    },
    {
      "cell_type": "markdown",
      "source": [
        "## ✅ 결론 및 요약\n",
        "| 항목         | WordLevel | WordPiece             |\n",
        "| ---------- | --------- | --------------------- |\n",
        "| 문장 길이      | 짧음        | 길어짐 (subword 분할)      |\n",
        "| OOV        | 높음        | 낮음 (희귀어 분할)           |\n",
        "| 복원률        | 높음        | 약간 낮음 (공백/구두점 차이)     |\n",
        "| Top-K 커버리지 | 느림        | 빠름 (소수 토큰으로 많은 문장 커버) |\n",
        "\n",
        "- WordPiece는 일반화/회귀어 처리 유리, WordLevele은 단순/복원률 유리\n",
        "- 실험 목적에 따라 선택 가능"
      ],
      "metadata": {
        "id": "WQP5-hbax--s"
      }
    }
  ]
}