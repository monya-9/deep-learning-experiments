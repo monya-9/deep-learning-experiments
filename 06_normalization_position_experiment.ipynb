{
  "nbformat": 4,
  "nbformat_minor": 0,
  "metadata": {
    "colab": {
      "provenance": [],
      "toc_visible": true,
      "gpuType": "T4",
      "authorship_tag": "ABX9TyOCrO5hdPtuGcrq6+Fb8G2s",
      "include_colab_link": true
    },
    "kernelspec": {
      "name": "python3",
      "display_name": "Python 3"
    },
    "language_info": {
      "name": "python"
    },
    "accelerator": "GPU"
  },
  "cells": [
    {
      "cell_type": "markdown",
      "metadata": {
        "id": "view-in-github",
        "colab_type": "text"
      },
      "source": [
        "<a href=\"https://colab.research.google.com/github/monya-9/deep-learning-experiments/blob/main/06_normalization_position_experiment.ipynb\" target=\"_parent\"><img src=\"https://colab.research.google.com/assets/colab-badge.svg\" alt=\"Open In Colab\"/></a>"
      ]
    },
    {
      "cell_type": "markdown",
      "source": [
        "# normalization 위치 조절 실험\n",
        "\n",
        "## ✅ 실험 목적\n",
        "\n",
        "BatchNorm의 위치(Conv→BN→ReLU vs Conv→ReLU→BN)가 학습 안정성/성능에 미치는 영향을 비교한다.\n",
        "\n",
        "동일 조건(데이터/옵티마이저/에폭/모델 용량)에서 위치만 다르게 설정해 수렴 속도와 최종 정확도를 관찰한다.\n",
        "\n",
        "## 🧪 실험 설계\n",
        "\n",
        "데이터: CIFAR-10 (32×32 RGB)\n",
        "\n",
        "공통 전처리: Train = RandomCrop + Flip + Normalize / Test = Normalize\n",
        "\n",
        "모델: 소형 CNN (두 개의 Conv 블록 + FC)\n",
        "\n",
        "BN-Before-ReLU: Conv → BN → ReLU\n",
        "\n",
        "BN-After-ReLU: Conv → ReLU → BN\n",
        "\n",
        "학습: Adam(lr=1e-3), Epoch=10, Batch=128, Loss=CrossEntropy\n",
        "\n",
        "평가: Test Accuracy, 학습/검증 정확도 추이 그래프, 최종 성능 바차트, 표 요약"
      ],
      "metadata": {
        "id": "MyYydI8q0tBI"
      }
    },
    {
      "cell_type": "code",
      "source": [
        "# =======================\n",
        "# 0. 라이브러리\n",
        "# =======================\n",
        "import torch, torch.nn as nn, torch.nn.functional as F\n",
        "import torch.optim as optim\n",
        "import torchvision, torchvision.transforms as transforms\n",
        "from torch.utils.data import DataLoader\n",
        "import numpy as np, pandas as pd\n",
        "import matplotlib.pyplot as plt\n",
        "\n",
        "device = torch.device(\"cuda\" if torch.cuda.is_available() else \"cpu\")\n",
        "torch.manual_seed(42)\n",
        "np.random.seed(42)"
      ],
      "metadata": {
        "id": "O8fqW0he1c-d"
      },
      "execution_count": null,
      "outputs": []
    },
    {
      "cell_type": "code",
      "source": [
        "# =======================\n",
        "# 1. 데이터셋 & 전처리\n",
        "# =======================\n",
        "mean = (0.4914, 0.4822, 0.4465)\n",
        "std  = (0.2023, 0.1994, 0.2010)\n",
        "\n",
        "transform_train = transforms.Compose([\n",
        "    transforms.RandomCrop(32, padding=4),\n",
        "    transforms.RandomHorizontalFlip(),\n",
        "    transforms.ToTensor(),\n",
        "    transforms.Normalize(mean, std),\n",
        "])\n",
        "transform_test = transforms.Compose([\n",
        "    transforms.ToTensor(),\n",
        "    transforms.Normalize(mean, std),\n",
        "])\n",
        "\n",
        "trainset = torchvision.datasets.CIFAR10(root=\"./data\", train=True, download=True, transform=transform_train)\n",
        "testset  = torchvision.datasets.CIFAR10(root=\"./data\", train=False, download=True, transform=transform_test)\n",
        "trainloader = DataLoader(trainset, batch_size=128, shuffle=True, num_workers=2, pin_memory=True)\n",
        "testloader  = DataLoader(testset,  batch_size=256, shuffle=False, num_workers=2, pin_memory=True)"
      ],
      "metadata": {
        "id": "E1DjnO2D1i2c",
        "colab": {
          "base_uri": "https://localhost:8080/"
        },
        "outputId": "cb19ce16-9524-4f16-bdbe-4d5b7f18bf96"
      },
      "execution_count": null,
      "outputs": [
        {
          "output_type": "stream",
          "name": "stderr",
          "text": [
            "100%|██████████| 170M/170M [00:03<00:00, 43.0MB/s]\n"
          ]
        }
      ]
    },
    {
      "cell_type": "markdown",
      "source": [
        "- CIFAR-10 사용 (32x32 컬러 이미지, 10개 클래스)\n",
        "\n",
        "- train_transform\n",
        "\n",
        "  - RandomCrop, RandomHorizontalFlip → 데이터 증강\n",
        "\n",
        "  - ToTensor + Normalize → 픽셀 정규화\n",
        "\n",
        "- test_transform → 정규화만\n",
        "\n",
        "- DataLoader로 배치 단위 학습/평가 준비"
      ],
      "metadata": {
        "id": "yDv8ZhlE5ISM"
      }
    },
    {
      "cell_type": "code",
      "source": [
        "# =======================\n",
        "# 2. 블록 정의 (BN 위치 변형)\n",
        "# =======================\n",
        "class ConvBlock_BNBeforeReLU(nn.Module):\n",
        "    def __init__(self, in_ch, out_ch):\n",
        "        super().__init__()\n",
        "        self.conv = nn.Conv2d(in_ch, out_ch, 3, padding=1, bias=False)\n",
        "        self.bn   = nn.BatchNorm2d(out_ch)\n",
        "        self.act  = nn.ReLU(inplace=True)\n",
        "    def forward(self, x):\n",
        "        x = self.conv(x)\n",
        "        x = self.bn(x)          # BN 먼저\n",
        "        x = self.act(x)         # ReLU 나중\n",
        "        return x\n",
        "\n",
        "class ConvBlock_BNAfterReLU(nn.Module):\n",
        "    def __init__(self, in_ch, out_ch):\n",
        "        super().__init__()\n",
        "        self.conv = nn.Conv2d(in_ch, out_ch, 3, padding=1, bias=False)\n",
        "        self.bn   = nn.BatchNorm2d(out_ch)\n",
        "        self.act  = nn.ReLU(inplace=True)\n",
        "    def forward(self, x):\n",
        "        x = self.conv(x)\n",
        "        x = self.act(x)         # ReLU 먼저\n",
        "        x = self.bn(x)          # BN 나중\n",
        "        return x\n",
        "\n",
        "# 공통 CNN 골격\n",
        "class SmallCNN(nn.Module):\n",
        "    def __init__(self, block_cls):\n",
        "        super().__init__()\n",
        "        self.features = nn.Sequential(\n",
        "            block_cls(3, 32),\n",
        "            block_cls(32, 32),\n",
        "            nn.MaxPool2d(2),          # 16x16\n",
        "            block_cls(32, 64),\n",
        "            block_cls(64, 64),\n",
        "            nn.MaxPool2d(2),          # 8x8\n",
        "        )\n",
        "        self.classifier = nn.Sequential(\n",
        "            nn.Flatten(),\n",
        "            nn.Linear(64*8*8, 256),\n",
        "            nn.ReLU(inplace=True),\n",
        "            nn.Linear(256, 10),\n",
        "        )\n",
        "    def forward(self, x):\n",
        "        x = self.features(x)\n",
        "        x = self.classifier(x)\n",
        "        return x"
      ],
      "metadata": {
        "id": "uN9Tt9WL1uEq"
      },
      "execution_count": null,
      "outputs": []
    },
    {
      "cell_type": "markdown",
      "source": [
        "BN 위치를 다르게 한 ConvBlock 정의\n",
        "- BN-Before-ReLU: Conv → BN → ReLU\n",
        "\n",
        "- BN-After-ReLU: Conv → ReLU → BN\n",
        "\n",
        "- 실험 목적: BN 위치가 학습/성능에 미치는 영향 비교\n",
        "\n",
        "공통 CNN 구조 정의\n",
        "- block_cls로 BN 위치 조절 가능\n",
        "\n",
        "- ConvBlock 4개 + MaxPool 2개\n",
        "\n",
        "- FC 2개로 분류\n",
        "\n",
        "- Flatten 후 FC → 10개 클래스 출력"
      ],
      "metadata": {
        "id": "plTmRPrY5OgA"
      }
    },
    {
      "cell_type": "code",
      "source": [
        "# =======================\n",
        "# 3. 학습/평가 루프\n",
        "# =======================\n",
        "def train_one_epoch(model, loader, optimizer, criterion):\n",
        "    model.train()\n",
        "    correct, total, run_loss = 0, 0, 0.0\n",
        "    for images, labels in loader:\n",
        "        images, labels = images.to(device), labels.to(device)\n",
        "        optimizer.zero_grad()\n",
        "        logits = model(images)\n",
        "        loss = criterion(logits, labels)\n",
        "        loss.backward()\n",
        "        optimizer.step()\n",
        "        run_loss += loss.item()\n",
        "        pred = logits.argmax(1)\n",
        "        correct += (pred == labels).sum().item()\n",
        "        total   += labels.size(0)\n",
        "    return run_loss / len(loader), correct / total\n",
        "\n",
        "@torch.no_grad()\n",
        "def evaluate(model, loader, criterion):\n",
        "    model.eval()\n",
        "    correct, total, run_loss = 0, 0, 0.0\n",
        "    for images, labels in loader:\n",
        "        images, labels = images.to(device), labels.to(device)\n",
        "        logits = model(images)\n",
        "        loss = criterion(logits, labels)\n",
        "        run_loss += loss.item()\n",
        "        pred = logits.argmax(1)\n",
        "        correct += (pred == labels).sum().item()\n",
        "        total   += labels.size(0)\n",
        "    return run_loss / len(loader), correct / total\n",
        "\n",
        "def run_experiment(block_cls, epochs=10, lr=1e-3):\n",
        "    model = SmallCNN(block_cls).to(device)\n",
        "    optimizer = optim.Adam(model.parameters(), lr=lr)\n",
        "    criterion = nn.CrossEntropyLoss()\n",
        "\n",
        "    hist = {\"train_acc\": [], \"train_loss\": [], \"test_acc\": [], \"test_loss\": []}\n",
        "    for ep in range(1, epochs+1):\n",
        "        tr_loss, tr_acc = train_one_epoch(model, trainloader, optimizer, criterion)\n",
        "        te_loss, te_acc = evaluate(model, testloader, criterion)\n",
        "        hist[\"train_loss\"].append(tr_loss); hist[\"train_acc\"].append(tr_acc)\n",
        "        hist[\"test_loss\"].append(te_loss);  hist[\"test_acc\"].append(te_acc)\n",
        "        print(f\"[Epoch {ep:02d}] train_acc={tr_acc*100:.2f}%  test_acc={te_acc*100:.2f}%\")\n",
        "    return model, hist"
      ],
      "metadata": {
        "id": "jDqfXlDi1977"
      },
      "execution_count": null,
      "outputs": []
    },
    {
      "cell_type": "markdown",
      "source": [
        "학습/평가 루프\n",
        "- train_one_epoch: 한 epoch 학습\n",
        "\n",
        "- evaluate: test/validation 평가\n",
        "\n",
        "- 정확도 계산: argmax → 정답과 비교\n",
        "\n",
        "실험 실행 함수\n",
        "- 지정한 BN 위치(block_cls)로 학습/평가\n",
        "\n",
        "- 정확도/손실 기록(hist dictionary)\n",
        "\n",
        "- Epoch마다 print로 진행상황 출력"
      ],
      "metadata": {
        "id": "nErxAdZn5eMt"
      }
    },
    {
      "cell_type": "code",
      "source": [
        "# =======================\n",
        "# 4. 두 구조 비교 실행\n",
        "# =======================\n",
        "print(\"\\n=== BN Before ReLU ===\")\n",
        "model_before, hist_before = run_experiment(ConvBlock_BNBeforeReLU, epochs=10, lr=1e-3)\n",
        "\n",
        "print(\"\\n=== BN After ReLU ===\")\n",
        "model_after,  hist_after  = run_experiment(ConvBlock_BNAfterReLU,  epochs=10, lr=1e-3)"
      ],
      "metadata": {
        "colab": {
          "base_uri": "https://localhost:8080/"
        },
        "id": "PeDz5J5o2Bfd",
        "outputId": "69c1dc75-013b-4979-b6fe-a4dbf0220bf5"
      },
      "execution_count": null,
      "outputs": [
        {
          "output_type": "stream",
          "name": "stdout",
          "text": [
            "\n",
            "=== BN Before ReLU ===\n",
            "[Epoch 01] train_acc=46.95%  test_acc=60.96%\n",
            "[Epoch 02] train_acc=62.95%  test_acc=66.24%\n",
            "[Epoch 03] train_acc=68.83%  test_acc=67.52%\n",
            "[Epoch 04] train_acc=71.84%  test_acc=74.94%\n",
            "[Epoch 05] train_acc=73.67%  test_acc=71.24%\n",
            "[Epoch 06] train_acc=75.34%  test_acc=75.31%\n",
            "[Epoch 07] train_acc=76.65%  test_acc=77.26%\n",
            "[Epoch 08] train_acc=78.14%  test_acc=79.46%\n",
            "[Epoch 09] train_acc=78.71%  test_acc=77.93%\n",
            "[Epoch 10] train_acc=79.52%  test_acc=78.70%\n",
            "\n",
            "=== BN After ReLU ===\n",
            "[Epoch 01] train_acc=51.45%  test_acc=65.15%\n",
            "[Epoch 02] train_acc=67.27%  test_acc=72.13%\n",
            "[Epoch 03] train_acc=72.29%  test_acc=75.69%\n",
            "[Epoch 04] train_acc=75.67%  test_acc=77.97%\n",
            "[Epoch 05] train_acc=77.93%  test_acc=79.72%\n",
            "[Epoch 06] train_acc=79.26%  test_acc=80.68%\n",
            "[Epoch 07] train_acc=80.44%  test_acc=80.77%\n",
            "[Epoch 08] train_acc=81.68%  test_acc=81.39%\n",
            "[Epoch 09] train_acc=82.52%  test_acc=81.45%\n",
            "[Epoch 10] train_acc=83.22%  test_acc=82.16%\n"
          ]
        }
      ]
    },
    {
      "cell_type": "markdown",
      "source": [
        "- BN 위치에 따른 모델 학습/평가\n",
        "\n",
        "- 결과 저장(hist_before, hist_after)"
      ],
      "metadata": {
        "id": "uiOJOlIP5uEa"
      }
    },
    {
      "cell_type": "code",
      "source": [
        "# =======================\n",
        "# 5. 표 요약 출력\n",
        "# =======================\n",
        "summary = pd.DataFrame([\n",
        "    {\"Model\": \"BN-Before-ReLU\", \"Final Train Acc (%)\": f\"{hist_before['train_acc'][-1]*100:.2f}\",\n",
        "     \"Final Test Acc (%)\": f\"{hist_before['test_acc'][-1]*100:.2f}\"},\n",
        "    {\"Model\": \"BN-After-ReLU\",  \"Final Train Acc (%)\": f\"{hist_after['train_acc'][-1]*100:.2f}\",\n",
        "     \"Final Test Acc (%)\": f\"{hist_after['test_acc'][-1]*100:.2f}\"},\n",
        "])\n",
        "print(\"\\n=== Summary (Final Epoch) ===\")\n",
        "print(summary)"
      ],
      "metadata": {
        "colab": {
          "base_uri": "https://localhost:8080/"
        },
        "id": "9TzSJOOa2DZg",
        "outputId": "eb7c3559-ee6e-42cc-db39-7d3955521eee"
      },
      "execution_count": null,
      "outputs": [
        {
          "output_type": "stream",
          "name": "stdout",
          "text": [
            "\n",
            "=== Summary (Final Epoch) ===\n",
            "            Model Final Train Acc (%) Final Test Acc (%)\n",
            "0  BN-Before-ReLU               79.52              78.70\n",
            "1   BN-After-ReLU               83.22              82.16\n"
          ]
        }
      ]
    },
    {
      "cell_type": "markdown",
      "source": [
        "- 최종 epoch 기준 train/test accuracy 출력"
      ],
      "metadata": {
        "id": "LXCrO4eb51Cq"
      }
    },
    {
      "cell_type": "code",
      "source": [
        "# =======================\n",
        "# 6. 시각화 (Accuracy curves + Bar)\n",
        "# =======================\n",
        "epochs = range(1, len(hist_before[\"train_acc\"])+1)\n",
        "\n",
        "plt.figure(figsize=(10,4))\n",
        "# (a) Train/Test Accuracy curves\n",
        "plt.subplot(1,2,1)\n",
        "plt.plot(epochs, np.array(hist_before[\"train_acc\"])*100, label=\"Before-ReLU Train\", linestyle=\"--\")\n",
        "plt.plot(epochs, np.array(hist_before[\"test_acc\"])*100,  label=\"Before-ReLU Test\")\n",
        "plt.plot(epochs, np.array(hist_after[\"train_acc\"])*100,  label=\"After-ReLU Train\", linestyle=\"--\")\n",
        "plt.plot(epochs, np.array(hist_after[\"test_acc\"])*100,   label=\"After-ReLU Test\")\n",
        "plt.xlabel(\"Epoch\"); plt.ylabel(\"Accuracy (%)\")\n",
        "plt.title(\"Train/Test Accuracy Curves\")\n",
        "plt.legend()\n",
        "\n",
        "# (b) Final Test Accuracy bar\n",
        "plt.subplot(1,2,2)\n",
        "finals = [hist_before[\"test_acc\"][-1]*100, hist_after[\"test_acc\"][-1]*100]\n",
        "plt.bar([\"BN-Before-ReLU\", \"BN-After-ReLU\"], finals)\n",
        "for i,v in enumerate(finals):\n",
        "    plt.text(i, v+0.5, f\"{v:.2f}%\", ha=\"center\")\n",
        "plt.ylim(0, 100)\n",
        "plt.title(\"Final Test Accuracy\")\n",
        "plt.tight_layout()\n",
        "plt.show()"
      ],
      "metadata": {
        "colab": {
          "base_uri": "https://localhost:8080/",
          "height": 407
        },
        "id": "gpXZzuvL2I-d",
        "outputId": "c356171c-a1cf-444f-8053-0c8640dd5672"
      },
      "execution_count": null,
      "outputs": [
        {
          "output_type": "display_data",
          "data": {
            "text/plain": [
              "<Figure size 1000x400 with 2 Axes>"
            ],
            "image/png": "[encoded data removed]"
          },
          "metadata": {}
        }
      ]
    },
    {
      "cell_type": "markdown",
      "source": [
        "## 📝 결론: Normalization 위치 조절 실험\n",
        "\n",
        "1. BN-Before-ReLU (Conv → BN → ReLU)\n",
        "\n",
        "  - 최종 Train Acc: 79.52%\n",
        "\n",
        "  - 최종 Test Acc: 78.70%\n",
        "\n",
        "2. BN-After-ReLU (Conv → ReLU → BN)\n",
        "\n",
        "  - 최종 Train Acc: 83.22%\n",
        "\n",
        "  - 최종 Test Acc: 82.16%\n",
        "\n",
        "👉 비교해보면, Batch Normalization을 ReLU 뒤에 두었을 때가 앞에 둘 때보다 Train/Test 정확도가 모두 더 높게 나타났음.\n",
        "\n",
        "## ✅ 결론 요약\n",
        "\n",
        "- BN 위치는 성능에 영향을 준다.\n",
        "\n",
        "- 이번 실험에서는 BN을 ReLU 뒤에 적용하는 것이 더 효과적이었다.\n",
        "\n",
        "- 이는 ReLU로 인해 발생하는 음수 값 제거(비선형성 반영) 이후에 분포를 정규화하는 것이 학습 안정성과 일반화에 유리했기 때문으로 해석할 수 있음.\n",
        "\n",
        "- 따라서 모델 설계 시, BN의 위치를 고민할 필요가 있으며 Activation 뒤에서 BN을 적용하는 방식이 더 좋은 선택일 수 있다."
      ],
      "metadata": {
        "id": "ldpI9OeH4QKY"
      }
    }
  ]
}