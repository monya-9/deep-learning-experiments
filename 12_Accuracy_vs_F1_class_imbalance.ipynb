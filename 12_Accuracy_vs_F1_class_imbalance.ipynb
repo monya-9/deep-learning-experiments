{
  "nbformat": 4,
  "nbformat_minor": 0,
  "metadata": {
    "colab": {
      "provenance": [],
      "toc_visible": true,
      "gpuType": "T4",
      "authorship_tag": "ABX9TyN7KObpyFfFs+xu6lQ24Xyr",
      "include_colab_link": true
    },
    "kernelspec": {
      "name": "python3",
      "display_name": "Python 3"
    },
    "language_info": {
      "name": "python"
    },
    "accelerator": "GPU"
  },
  "cells": [
    {
      "cell_type": "markdown",
      "metadata": {
        "id": "view-in-github",
        "colab_type": "text"
      },
      "source": [
        "<a href=\"https://colab.research.google.com/github/monya-9/deep-learning-experiments/blob/main/12_Accuracy_vs_F1_class_imbalance.ipynb\" target=\"_parent\"><img src=\"https://colab.research.google.com/assets/colab-badge.svg\" alt=\"Open In Colab\"/></a>"
      ]
    },
    {
      "cell_type": "markdown",
      "source": [
        "# class imbalance 상황에서 accuracy vs F1의 차이\n",
        "\n",
        "## 1. 실험 목적\n",
        "- 클래스 불균형 상황에서 Accuracy와 F1-score의 차이를 확인\n",
        "\n",
        "- Accuracy만으로 모델 성능을 평가했을 때 나타날 수 있는 오해를 확인\n",
        "\n",
        "- 불균형 문제에서 F1-score가 왜 중요한지 이해\n",
        "\n",
        "\n",
        "## 2. 실험 설계\n",
        "\n",
        "- 데이터: 인위적 이진 분류 데이터 생성 (make_classification)\n",
        "\n",
        "- 클래스 비율: 0 → 90%, 1 → 10%\n",
        "\n",
        "- 1,000개 샘플, 10개 피처\n",
        "\n",
        "- 모델: Logistic Regression\n",
        "\n",
        "- 평가 지표: Accuracy, F1-score (macro/micro 생략, 단순 F1)\n",
        "\n",
        "- 시각화: Accuracy와 F1-score 비교를 막대 그래프로 표현"
      ],
      "metadata": {
        "id": "iRHlK7plYTGa"
      }
    },
    {
      "cell_type": "code",
      "source": [
        "# =======================\n",
        "# 0. 라이브러리 설치\n",
        "# =======================\n",
        "!pip install -q scikit-learn matplotlib"
      ],
      "metadata": {
        "id": "ra33rDPOYevW"
      },
      "execution_count": 1,
      "outputs": []
    },
    {
      "cell_type": "code",
      "source": [
        "# =======================\n",
        "# 1. 라이브러리\n",
        "# =======================\n",
        "import numpy as np\n",
        "import matplotlib.pyplot as plt\n",
        "from sklearn.datasets import make_classification\n",
        "from sklearn.model_selection import train_test_split\n",
        "from sklearn.linear_model import LogisticRegression\n",
        "from sklearn.metrics import accuracy_score, f1_score"
      ],
      "metadata": {
        "id": "nDVfhF8BYiRp"
      },
      "execution_count": 2,
      "outputs": []
    },
    {
      "cell_type": "code",
      "source": [
        "# =======================\n",
        "# 2. 불균형 데이터 생성\n",
        "# =======================\n",
        "X, y = make_classification(\n",
        "    n_samples=1000,\n",
        "    n_features=10,\n",
        "    n_informative=5,\n",
        "    n_redundant=0,\n",
        "    n_clusters_per_class=1,\n",
        "    weights=[0.9, 0.1],  # 클래스 0:90%, 클래스 1:10%\n",
        "    flip_y=0,\n",
        "    random_state=42\n",
        ")\n",
        "\n",
        "X_train, X_test, y_train, y_test = train_test_split(X, y, test_size=0.3, random_state=42)\n",
        "\n",
        "print(f\"Train class distribution: {np.bincount(y_train)}\")\n",
        "print(f\"Test class distribution: {np.bincount(y_test)}\")"
      ],
      "metadata": {
        "colab": {
          "base_uri": "https://localhost:8080/"
        },
        "id": "vchgysamYkoL",
        "outputId": "fbb99fcd-bf58-4075-9d13-3f2c28dfe693"
      },
      "execution_count": 3,
      "outputs": [
        {
          "output_type": "stream",
          "name": "stdout",
          "text": [
            "Train class distribution: [629  71]\n",
            "Test class distribution: [271  29]\n"
          ]
        }
      ]
    },
    {
      "cell_type": "markdown",
      "source": [
        "- 총 1000개의 샘플, 10개의 피처 생성\n",
        "\n",
        "- 클래스 비율: 0 → 90%, 1 → 10% (불균형)\n",
        "\n",
        "- train_test_split으로 학습용 70%, 평가용 30% 분리\n",
        "\n",
        "- random_state 고정 → 재현성 보장"
      ],
      "metadata": {
        "id": "OOXiCY4oaql2"
      }
    },
    {
      "cell_type": "code",
      "source": [
        "# =======================\n",
        "# 3. 모델 학습\n",
        "# =======================\n",
        "clf = LogisticRegression()\n",
        "clf.fit(X_train, y_train)\n",
        "y_pred = clf.predict(X_test)"
      ],
      "metadata": {
        "id": "qIioVKzSYnNn"
      },
      "execution_count": 4,
      "outputs": []
    },
    {
      "cell_type": "markdown",
      "source": [
        "- Logistic Regression 모델 생성 후 학습\n",
        "\n",
        "- 학습된 모델로 테스트 데이터 예측 (y_pred)"
      ],
      "metadata": {
        "id": "B7dLGzW_at3A"
      }
    },
    {
      "cell_type": "code",
      "source": [
        "# =======================\n",
        "# 4. 평가\n",
        "# =======================\n",
        "acc = accuracy_score(y_test, y_pred)\n",
        "f1 = f1_score(y_test, y_pred)\n",
        "\n",
        "print(f\"Accuracy: {acc:.4f}\")\n",
        "print(f\"F1-score: {f1:.4f}\")\n"
      ],
      "metadata": {
        "colab": {
          "base_uri": "https://localhost:8080/"
        },
        "id": "lOdjarp-YoLd",
        "outputId": "de681460-9466-4f9f-eb8e-ec45445e332a"
      },
      "execution_count": 5,
      "outputs": [
        {
          "output_type": "stream",
          "name": "stdout",
          "text": [
            "Accuracy: 0.9967\n",
            "F1-score: 0.9825\n"
          ]
        }
      ]
    },
    {
      "cell_type": "markdown",
      "source": [
        "- Accuracy: 전체 샘플 중 맞춘 비율\n",
        "\n",
        "- F1-score: Positive 클래스 예측 성능 반영\n",
        "\n",
        "- 불균형 상황에서 Accuracy가 높아도 F1 낮을 수 있음"
      ],
      "metadata": {
        "id": "7sm-5pbCawLc"
      }
    },
    {
      "cell_type": "code",
      "source": [
        "# =======================\n",
        "# 5. 시각화\n",
        "# =======================\n",
        "plt.figure(figsize=(6,4))\n",
        "plt.bar([\"Accuracy\", \"F1-score\"], [acc, f1], color=[\"skyblue\",\"salmon\"])\n",
        "plt.ylim(0, 1)\n",
        "plt.ylabel(\"Score\")\n",
        "plt.title(\"Accuracy vs F1-score (Class Imbalance Example)\")\n",
        "plt.show()"
      ],
      "metadata": {
        "colab": {
          "base_uri": "https://localhost:8080/",
          "height": 391
        },
        "id": "zpk_IgARYpFq",
        "outputId": "c5b2f64f-32ae-4a08-bcf0-aa63abd4ae64"
      },
      "execution_count": 6,
      "outputs": [
        {
          "output_type": "display_data",
          "data": {
            "text/plain": [
              "<Figure size 600x400 with 1 Axes>"
            ],
            "image/png": "[encoded data removed]"
          },
          "metadata": {}
        }
      ]
    },
    {
      "cell_type": "markdown",
      "source": [
        "- 막대 그래프로 Accuracy와 F1-score 비교\n",
        "\n",
        "- 시각적으로 클래스 불균형 영향 확인 가능"
      ],
      "metadata": {
        "id": "0a8DtlpWaygZ"
      }
    },
    {
      "cell_type": "markdown",
      "source": [
        "## ✅ 결과 및 요약\n",
        "| Metric   | Score  |\n",
        "| -------- | ------ |\n",
        "| Accuracy | 0.9967 |\n",
        "| F1-score | 0.9825 |\n",
        "\n",
        "\n",
        "- 단순 Accuracy만 보는 것보다 F1-score 확인이 중요\n",
        "\n",
        "- 이번 실험에서는 두 지표가 모두 높아 모델 성능이 안정적임을 확인\n",
        "\n",
        "- 실무에서는 클래스 불균형 문제를 고려할 때, 항상 Accuracy와 F1-score를 함께 평가하는 것이 권장됨"
      ],
      "metadata": {
        "id": "_HiEfBBba1Uj"
      }
    }
  ]
}