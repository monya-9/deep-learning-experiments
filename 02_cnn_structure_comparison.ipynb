{
  "nbformat": 4,
  "nbformat_minor": 0,
  "metadata": {
    "colab": {
      "provenance": [],
      "toc_visible": true,
      "gpuType": "T4",
      "authorship_tag": "ABX9TyNtthC/XwJdJK/hpiW+JdkI",
      "include_colab_link": true
    },
    "kernelspec": {
      "name": "python3",
      "display_name": "Python 3"
    },
    "language_info": {
      "name": "python"
    },
    "accelerator": "GPU"
  },
  "cells": [
    {
      "cell_type": "markdown",
      "metadata": {
        "id": "view-in-github",
        "colab_type": "text"
      },
      "source": [
        "<a href=\"https://colab.research.google.com/github/monya-9/deep-learning-experiments/blob/main/02_cnn_structure_comparison.ipynb\" target=\"_parent\"><img src=\"https://colab.research.google.com/assets/colab-badge.svg\" alt=\"Open In Colab\"/></a>"
      ]
    },
    {
      "cell_type": "markdown",
      "source": [
        "# CNN 구조 변경 (kernel size, pooling 여부)\n",
        "\n",
        "### 🧪 실험 목표\n",
        "\n",
        "목표: CIFAR-10 분류 정확도를 높이기 위해 CNN 구조를 변경하여 성능을 비교합니다.\n",
        "\n",
        "변경 항목:\n",
        "\n",
        "커널 크기 (예: 3x3 → 5x5)\n",
        "\n",
        "풀링 여부 (MaxPooling 적용/미적용)\n",
        "\n",
        "레이어 개수 (Conv 레이어 수 증가)"
      ],
      "metadata": {
        "id": "D4G98DsnhWtd"
      }
    },
    {
      "cell_type": "code",
      "source": [
        "# =======================\n",
        "# 1) 라이브러리 불러오기\n",
        "# =======================\n",
        "import torch\n",
        "import torch.nn as nn\n",
        "import torch.nn.functional as F\n",
        "import torch.optim as optim\n",
        "import torchvision\n",
        "import torchvision.transforms as transforms\n",
        "import matplotlib.pyplot as plt\n",
        "\n",
        "device = torch.device(\"cuda\" if torch.cuda.is_available() else \"cpu\")"
      ],
      "metadata": {
        "id": "okDr0-ATh2W8"
      },
      "execution_count": 1,
      "outputs": []
    },
    {
      "cell_type": "code",
      "source": [
        "# =======================\n",
        "# 2) 데이터셋 & 전처리\n",
        "# =======================\n",
        "transform_train = transforms.Compose([\n",
        "    transforms.RandomHorizontalFlip(),\n",
        "    transforms.RandomCrop(32, padding=4),\n",
        "    transforms.ToTensor(),\n",
        "    transforms.Normalize((0.5,0.5,0.5),(0.5,0.5,0.5))\n",
        "])\n",
        "\n",
        "transform_test = transforms.Compose([\n",
        "    transforms.ToTensor(),\n",
        "    transforms.Normalize((0.5,0.5,0.5),(0.5,0.5,0.5))\n",
        "])\n",
        "\n",
        "trainset = torchvision.datasets.CIFAR10(root='./data', train=True, download=True, transform=transform_train)\n",
        "trainloader = torch.utils.data.DataLoader(trainset, batch_size=64, shuffle=True)\n",
        "\n",
        "testset = torchvision.datasets.CIFAR10(root='./data', train=False, download=True, transform=transform_test)\n",
        "testloader = torch.utils.data.DataLoader(testset, batch_size=64, shuffle=False)\n",
        "\n",
        "classes = ('plane', 'car', 'bird', 'cat', 'deer','dog', 'frog', 'horse', 'ship', 'truck')"
      ],
      "metadata": {
        "colab": {
          "base_uri": "https://localhost:8080/"
        },
        "id": "G8JjTbNch8uF",
        "outputId": "180ad8ef-6b54-40fb-9ea8-23a1d4441d4b"
      },
      "execution_count": 2,
      "outputs": [
        {
          "output_type": "stream",
          "name": "stderr",
          "text": [
            "100%|██████████| 170M/170M [00:05<00:00, 29.0MB/s]\n"
          ]
        }
      ]
    },
    {
      "cell_type": "markdown",
      "source": [
        "1. Train: 데이터 증강 적용 (좌우 뒤집기, 랜덤 Crop) → 일반화 성능 향상\n",
        "2. Test: 원본 데이터를 정규화만 적용\n",
        "3. CIFAR-10 데이터셋 로드\n",
        "4. DataLoader를 이용해 미니배치 학습 가능"
      ],
      "metadata": {
        "id": "_UR9LD_RmKbq"
      }
    },
    {
      "cell_type": "code",
      "source": [
        "# =======================\n",
        "# 3) CNN 모델 정의 (세 가지 실험)\n",
        "# =======================\n",
        "class BasicCNN(nn.Module):\n",
        "    def __init__(self):\n",
        "        super().__init__()\n",
        "        self.conv1 = nn.Conv2d(3,32,3,padding=1)\n",
        "        self.conv2 = nn.Conv2d(32,64,3,padding=1)\n",
        "        self.pool = nn.MaxPool2d(2,2)\n",
        "        self.fc1 = nn.Linear(64*8*8,512)\n",
        "        self.fc2 = nn.Linear(512,10)\n",
        "\n",
        "    def forward(self,x):\n",
        "        x = self.pool(F.relu(self.conv1(x)))\n",
        "        x = self.pool(F.relu(self.conv2(x)))\n",
        "        x = x.view(-1,64*8*8)\n",
        "        x = F.relu(self.fc1(x))\n",
        "        x = self.fc2(x)\n",
        "        return x\n",
        "\n",
        "class LargerKernelCNN(nn.Module):\n",
        "    def __init__(self):\n",
        "        super().__init__()\n",
        "        self.conv1 = nn.Conv2d(3,32,5,padding=2)   # kernel 5x5\n",
        "        self.conv2 = nn.Conv2d(32,64,5,padding=2)\n",
        "        self.pool = nn.MaxPool2d(2,2)\n",
        "        self.fc1 = nn.Linear(64*8*8,512)\n",
        "        self.fc2 = nn.Linear(512,10)\n",
        "\n",
        "    def forward(self,x):\n",
        "        x = self.pool(F.relu(self.conv1(x)))\n",
        "        x = self.pool(F.relu(self.conv2(x)))\n",
        "        x = x.view(-1,64*8*8)\n",
        "        x = F.relu(self.fc1(x))\n",
        "        x = self.fc2(x)\n",
        "        return x\n",
        "\n",
        "class NoPoolingCNN(nn.Module):\n",
        "    def __init__(self):\n",
        "        super().__init__()\n",
        "        self.conv1 = nn.Conv2d(3,32,3,padding=1)\n",
        "        self.conv2 = nn.Conv2d(32,64,3,padding=1)\n",
        "        self.fc1 = nn.Linear(64*32*32,512)\n",
        "        self.fc2 = nn.Linear(512,10)\n",
        "\n",
        "    def forward(self,x):\n",
        "        x = F.relu(self.conv1(x))\n",
        "        x = F.relu(self.conv2(x))\n",
        "        x = x.view(-1,64*32*32)\n",
        "        x = F.relu(self.fc1(x))\n",
        "        x = self.fc2(x)\n",
        "        return x\n",
        "\n",
        "class DeeperCNN(nn.Module):\n",
        "    def __init__(self):\n",
        "        super().__init__()\n",
        "        self.conv1 = nn.Conv2d(3,32,3,padding=1)\n",
        "        self.conv2 = nn.Conv2d(32,64,3,padding=1)\n",
        "        self.conv3 = nn.Conv2d(64,128,3,padding=1)  # 추가 레이어\n",
        "        self.pool = nn.MaxPool2d(2,2)\n",
        "        self.fc1 = nn.Linear(128*4*4,512)\n",
        "        self.fc2 = nn.Linear(512,10)\n",
        "\n",
        "    def forward(self,x):\n",
        "        x = self.pool(F.relu(self.conv1(x)))\n",
        "        x = self.pool(F.relu(self.conv2(x)))\n",
        "        x = self.pool(F.relu(self.conv3(x)))\n",
        "        x = x.view(-1,128*4*4)\n",
        "        x = F.relu(self.fc1(x))\n",
        "        x = self.fc2(x)\n",
        "        return x"
      ],
      "metadata": {
        "id": "Zp_EbH_4iGLY"
      },
      "execution_count": 3,
      "outputs": []
    },
    {
      "cell_type": "markdown",
      "source": [
        "- BasicCNN: 기본 구조, kernel 3×3, pooling 적용\n",
        "- LargerKernelCNN: kernel 5×5, pooling 적용\n",
        "- NoPoolingCNN: pooling 제거, feature map 유지\n",
        "- DeeperCNN: Conv 레이어 수 3개, pooling 적용\n",
        "\n",
        "1. forward()에서 Conv → ReLU → Pooling 순으로 처리\n",
        "2. 마지막 시점 feature map을 flatten 후 FC layer로 클래스 예측"
      ],
      "metadata": {
        "id": "Qozjd101mSdo"
      }
    },
    {
      "cell_type": "code",
      "source": [
        "# =======================\n",
        "# 4) 모델 리스트 정의\n",
        "# =======================\n",
        "\n",
        "# 1. 모델 리스트 정의\n",
        "\n",
        "model_list = [\n",
        "    (\"BasicCNN\", BasicCNN()),\n",
        "    (\"LargerKernelCNN\", LargerKernelCNN()),\n",
        "    (\"NoPoolingCNN\", NoPoolingCNN()),\n",
        "    (\"DeeperCNN\", DeeperCNN())\n",
        "]\n",
        "\n",
        "results = {}"
      ],
      "metadata": {
        "collapsed": true,
        "id": "KCBOQ7u2iHBS"
      },
      "execution_count": 4,
      "outputs": []
    },
    {
      "cell_type": "markdown",
      "source": [
        "1. 실험할 CNN 모델과 이름을 튜플로 묶어서 리스트에 저장\n",
        "2. results 딕셔너리는 각 모델의 테스트 정확도를 저장할 공간"
      ],
      "metadata": {
        "id": "IDAFQ6PUniAR"
      }
    },
    {
      "cell_type": "code",
      "source": [
        "# =======================\n",
        "# 5) 모델별 학습 및 테스트\n",
        "# =======================\n",
        "for name, model in model_list:\n",
        "    print(f\"\\n=== Training {name} ===\")\n",
        "    model = model.to(device)\n",
        "    criterion = nn.CrossEntropyLoss()\n",
        "    optimizer = optim.Adam(model.parameters(), lr=0.001)\n",
        "\n",
        "    # 학습\n",
        "    for epoch in range(10):\n",
        "        running_loss = 0.0\n",
        "        for i, data in enumerate(trainloader, 0):\n",
        "            inputs, labels = data[0].to(device), data[1].to(device)\n",
        "            optimizer.zero_grad()\n",
        "            outputs = model(inputs)\n",
        "            loss = criterion(outputs, labels)\n",
        "            loss.backward()\n",
        "            optimizer.step()\n",
        "            running_loss += loss.item()\n",
        "        print(f\"[Epoch {epoch+1}] loss: {running_loss/len(trainloader):.3f}\")\n",
        "\n",
        "    # 테스트 정확도\n",
        "    correct = 0\n",
        "    total = 0\n",
        "    with torch.no_grad():\n",
        "        for data in testloader:\n",
        "            images, labels = data[0].to(device), data[1].to(device)\n",
        "            outputs = model(images)\n",
        "            _, predicted = torch.max(outputs.data, 1)\n",
        "            total += labels.size(0)\n",
        "            correct += (predicted == labels).sum().item()\n",
        "\n",
        "    acc = 100 * correct / total\n",
        "    results[name] = acc\n",
        "    print(f\"Accuracy of {name} on test images: {acc:.2f}%\")"
      ],
      "metadata": {
        "colab": {
          "base_uri": "https://localhost:8080/"
        },
        "id": "2TT4QyIwnC-b",
        "outputId": "c9092f40-a315-448d-9d9d-8b2ae6639454"
      },
      "execution_count": 5,
      "outputs": [
        {
          "output_type": "stream",
          "name": "stdout",
          "text": [
            "\n",
            "=== Training BasicCNN ===\n",
            "[Epoch 1] loss: 1.480\n",
            "[Epoch 2] loss: 1.148\n",
            "[Epoch 3] loss: 1.011\n",
            "[Epoch 4] loss: 0.924\n",
            "[Epoch 5] loss: 0.864\n",
            "[Epoch 6] loss: 0.814\n",
            "[Epoch 7] loss: 0.775\n",
            "[Epoch 8] loss: 0.740\n",
            "[Epoch 9] loss: 0.716\n",
            "[Epoch 10] loss: 0.692\n",
            "Accuracy of BasicCNN on test images: 76.36%\n",
            "\n",
            "=== Training LargerKernelCNN ===\n",
            "[Epoch 1] loss: 1.568\n",
            "[Epoch 2] loss: 1.241\n",
            "[Epoch 3] loss: 1.090\n",
            "[Epoch 4] loss: 0.991\n",
            "[Epoch 5] loss: 0.933\n",
            "[Epoch 6] loss: 0.881\n",
            "[Epoch 7] loss: 0.838\n",
            "[Epoch 8] loss: 0.805\n",
            "[Epoch 9] loss: 0.789\n",
            "[Epoch 10] loss: 0.761\n",
            "Accuracy of LargerKernelCNN on test images: 74.06%\n",
            "\n",
            "=== Training NoPoolingCNN ===\n",
            "[Epoch 1] loss: 1.631\n",
            "[Epoch 2] loss: 1.249\n",
            "[Epoch 3] loss: 1.086\n",
            "[Epoch 4] loss: 1.001\n",
            "[Epoch 5] loss: 0.943\n",
            "[Epoch 6] loss: 0.897\n",
            "[Epoch 7] loss: 0.861\n",
            "[Epoch 8] loss: 0.834\n",
            "[Epoch 9] loss: 0.813\n",
            "[Epoch 10] loss: 0.789\n",
            "Accuracy of NoPoolingCNN on test images: 72.20%\n",
            "\n",
            "=== Training DeeperCNN ===\n",
            "[Epoch 1] loss: 1.518\n",
            "[Epoch 2] loss: 1.136\n",
            "[Epoch 3] loss: 0.950\n",
            "[Epoch 4] loss: 0.842\n",
            "[Epoch 5] loss: 0.762\n",
            "[Epoch 6] loss: 0.710\n",
            "[Epoch 7] loss: 0.671\n",
            "[Epoch 8] loss: 0.631\n",
            "[Epoch 9] loss: 0.606\n",
            "[Epoch 10] loss: 0.584\n",
            "Accuracy of DeeperCNN on test images: 78.64%\n"
          ]
        }
      ]
    },
    {
      "cell_type": "markdown",
      "source": [
        "1. 리스트에서 하나씩 모델을 꺼내 학습 시작\n",
        "2. GPU가 있으면 device로 이동\n",
        "3. 손실함수: CrossEntropy -> 분류 문제에 적합\n",
        "4. 옵티마이저: Adam -> 학습률 자동 조정 및 빠른 수렴\n",
        "5. 학습 루프\n",
        "- 1. Epoch 수만큼 전체 데이터 반복\n",
        "- 2. 미니배치 단위 학습: inputs, labels\n",
        "- 3. optimizer.zero_grad() -> 이전 gradient 초기화\n",
        "- 4. loss.backward() -> gradient 계산 (역전파)\n",
        "- 5. optimizer.step() -> 가중치 업데이트\n",
        "- 6. Epoch 평균 손실 출력 -> 학습 상태 확인\n",
        "6. 테스트 평가\n",
        "- 1. torch.no_grad() -> gradient 계산X -> 메모리 절약\n",
        "- 2. torch.max(outputs.data, 1) -> 예측 클래스 선택\n",
        "- 3. 맞춘 개수 / 총 개수 -> 정확도 계산\n",
        "- 4. results 딕셔너리에 저장 -> 나중에 비교 가능"
      ],
      "metadata": {
        "id": "ZlnTEYODnrR2"
      }
    },
    {
      "cell_type": "code",
      "source": [
        "# =======================\n",
        "# 6) 결과 정리\n",
        "# =======================\n",
        "print(\"\\n=== Summary of All Models ===\")\n",
        "for name, acc in results.items():\n",
        "    print(f\"{name}: {acc:.2f}%\")"
      ],
      "metadata": {
        "colab": {
          "base_uri": "https://localhost:8080/"
        },
        "id": "feu0DEBbm-4h",
        "outputId": "867b2e6f-e460-4f55-f633-d9285614d52b"
      },
      "execution_count": 6,
      "outputs": [
        {
          "output_type": "stream",
          "name": "stdout",
          "text": [
            "\n",
            "=== Summary of All Models ===\n",
            "BasicCNN: 76.36%\n",
            "LargerKernelCNN: 74.06%\n",
            "NoPoolingCNN: 72.20%\n",
            "DeeperCNN: 78.64%\n"
          ]
        }
      ]
    },
    {
      "cell_type": "markdown",
      "source": [
        "1. 반복 학습 후 모든 모델의 테스트 정확도를 한 번에 출력\n",
        "2. 구조별 성능 비교 가능"
      ],
      "metadata": {
        "id": "T8s07PwjpG0-"
      }
    },
    {
      "cell_type": "code",
      "source": [
        "# =======================\n",
        "# 7) 결과 시각화\n",
        "# =======================\n",
        "plt.figure(figsize=(8,5))\n",
        "plt.bar(results.keys(), results.values(), color=['skyblue', 'orange', 'green', 'red'])\n",
        "plt.ylim(0, 100)\n",
        "plt.ylabel(\"Accuracy (%)\")\n",
        "plt.title(\"CNN Structure Comparison on CIFAR-10\")\n",
        "for i, acc in enumerate(results.values()):\n",
        "    plt.text(i, acc+1, f\"{acc:.2f}%\", ha='center')\n",
        "plt.show()"
      ],
      "metadata": {
        "colab": {
          "base_uri": "https://localhost:8080/",
          "height": 468
        },
        "id": "M5KfhMFRnDZH",
        "outputId": "f726eab7-52ff-47f3-c425-5abf60507e1b"
      },
      "execution_count": 7,
      "outputs": [
        {
          "output_type": "display_data",
          "data": {
            "text/plain": [
              "<Figure size 800x500 with 1 Axes>"
            ],
            "image/png": "[encoded data removed]"
          },
          "metadata": {}
        }
      ]
    },
    {
      "cell_type": "markdown",
      "source": [
        "1. 바 그래프로 모델별 정확도 시각화"
      ],
      "metadata": {
        "id": "Yuk-qx1zpMmw"
      }
    }
  ]
}