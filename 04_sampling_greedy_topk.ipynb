{
  "nbformat": 4,
  "nbformat_minor": 0,
  "metadata": {
    "colab": {
      "provenance": [],
      "toc_visible": true,
      "gpuType": "T4",
      "authorship_tag": "ABX9TyPqGRsZ73Ju6WIQXr+pIQ6M",
      "include_colab_link": true
    },
    "kernelspec": {
      "name": "python3",
      "display_name": "Python 3"
    },
    "language_info": {
      "name": "python"
    },
    "accelerator": "GPU"
  },
  "cells": [
    {
      "cell_type": "markdown",
      "metadata": {
        "id": "view-in-github",
        "colab_type": "text"
      },
      "source": [
        "<a href=\"https://colab.research.google.com/github/monya-9/deep-learning-experiments/blob/main/04_sampling_greedy_topk.ipynb\" target=\"_parent\"><img src=\"https://colab.research.google.com/assets/colab-badge.svg\" alt=\"Open In Colab\"/></a>"
      ]
    },
    {
      "cell_type": "markdown",
      "source": [
        "# Greedy vs Top-k 샘플링 비교 실험\n",
        "\n",
        "## ✅ 실험 설계\n",
        "\n",
        "목적: 동일 문장 생성 조건에서 Greedy 샘플링 vs Top-k 샘플링 성능 비교\n",
        "\n",
        "모델: HuggingFace GPT-2 (소규모, gpt2)\n",
        "\n",
        "데이터: 간단한 프롬프트 문장 예시 사용 (\"Once upon a time\" 등)\n",
        "\n",
        "시드 고정: 결과 재현성을 위해 torch.manual_seed(42)\n",
        "\n",
        "## 🧪 실험 항목 정리\n",
        "| 실험 번호 | 샘플링 전략 | k값 (Top-k) | 기타                   |\n",
        "| ----- | ------ | ---------- | -------------------- |\n",
        "| 1️⃣   | Greedy | -          | 최대 확률 토큰만 선택         |\n",
        "| 2️⃣   | Top-k  | 50         | 확률 상위 k개 토큰에서 무작위 선택 |\n",
        "| 3️⃣   | Top-k  | 100        | 동일 조건에서 k 변화 실험      |\n",
        "\n",
        "## 🎯 실험 목표\n",
        "\n",
        "- Greedy vs Top-k 샘플링 시 생성 문장의 다양성, 자연스러움, 반복 패턴 비교\n",
        "\n",
        "- Top-k k값 변화에 따른 문장 패턴 민감도 확인"
      ],
      "metadata": {
        "id": "AGbi6NUhth6w"
      }
    },
    {
      "cell_type": "code",
      "source": [
        "from transformers import GPT2LMHeadModel, GPT2Tokenizer\n",
        "import torch\n",
        "import pandas as pd\n",
        "import matplotlib.pyplot as plt\n",
        "\n",
        "device = \"cuda\" if torch.cuda.is_available() else \"cpu\""
      ],
      "metadata": {
        "id": "FL1wt0q6t0Mp"
      },
      "execution_count": 8,
      "outputs": []
    },
    {
      "cell_type": "code",
      "source": [
        "# 1. 모델과 토크나이저\n",
        "model_name = \"gpt2\"\n",
        "tokenizer = GPT2Tokenizer.from_pretrained(model_name)\n",
        "model = GPT2LMHeadModel.from_pretrained(model_name).to(device)\n",
        "model.eval()\n"
      ],
      "metadata": {
        "colab": {
          "base_uri": "https://localhost:8080/"
        },
        "id": "glCYqThRt-WV",
        "outputId": "380b670e-c492-46d7-a436-ba225a08d17c"
      },
      "execution_count": 9,
      "outputs": [
        {
          "output_type": "execute_result",
          "data": {
            "text/plain": [
              "GPT2LMHeadModel(\n",
              "  (transformer): GPT2Model(\n",
              "    (wte): Embedding(50257, 768)\n",
              "    (wpe): Embedding(1024, 768)\n",
              "    (drop): Dropout(p=0.1, inplace=False)\n",
              "    (h): ModuleList(\n",
              "      (0-11): 12 x GPT2Block(\n",
              "        (ln_1): LayerNorm((768,), eps=1e-05, elementwise_affine=True)\n",
              "        (attn): GPT2Attention(\n",
              "          (c_attn): Conv1D(nf=2304, nx=768)\n",
              "          (c_proj): Conv1D(nf=768, nx=768)\n",
              "          (attn_dropout): Dropout(p=0.1, inplace=False)\n",
              "          (resid_dropout): Dropout(p=0.1, inplace=False)\n",
              "        )\n",
              "        (ln_2): LayerNorm((768,), eps=1e-05, elementwise_affine=True)\n",
              "        (mlp): GPT2MLP(\n",
              "          (c_fc): Conv1D(nf=3072, nx=768)\n",
              "          (c_proj): Conv1D(nf=768, nx=3072)\n",
              "          (act): NewGELUActivation()\n",
              "          (dropout): Dropout(p=0.1, inplace=False)\n",
              "        )\n",
              "      )\n",
              "    )\n",
              "    (ln_f): LayerNorm((768,), eps=1e-05, elementwise_affine=True)\n",
              "  )\n",
              "  (lm_head): Linear(in_features=768, out_features=50257, bias=False)\n",
              ")"
            ]
          },
          "metadata": {},
          "execution_count": 9
        }
      ]
    },
    {
      "cell_type": "markdown",
      "source": [
        "- GPT-2 모델과 토크나이저를 HuggingFace에서 불러옴"
      ],
      "metadata": {
        "id": "C7m7lD2iuKQo"
      }
    },
    {
      "cell_type": "code",
      "source": [
        "# 2. 프롬프트 설정\n",
        "prompts = [\n",
        "    \"Once upon a time\",\n",
        "    \"In a distant future\",\n",
        "    \"The scientist said\"\n",
        "]"
      ],
      "metadata": {
        "id": "zR1XMmPQt_p8"
      },
      "execution_count": 10,
      "outputs": []
    },
    {
      "cell_type": "markdown",
      "source": [
        "- 실험할 입력 문장 3개"
      ],
      "metadata": {
        "id": "O5eVOQ7hu7Xn"
      }
    },
    {
      "cell_type": "code",
      "source": [
        "# 3. 샘플링 설정\n",
        "max_length = 50\n",
        "top_k_values = [50, 100]"
      ],
      "metadata": {
        "id": "2RP8TnNEuAZA"
      },
      "execution_count": 11,
      "outputs": []
    },
    {
      "cell_type": "markdown",
      "source": [
        "- attention_mask를 1로 설정 → 모델이 모든 토큰을 유효하게 처리\n",
        "\n",
        "- pad_token_id를 eos_token_id로 지정 → 자동 padding 방지"
      ],
      "metadata": {
        "id": "pStAP7dRvUje"
      }
    },
    {
      "cell_type": "code",
      "source": [
        "# 4. 결과 저장\n",
        "results = []\n",
        "\n",
        "for prompt in prompts:\n",
        "    input_ids = tokenizer.encode(prompt, return_tensors=\"pt\").to(device)\n",
        "    attention_mask = torch.ones_like(input_ids).to(device)\n",
        "\n",
        "    # Greedy\n",
        "    greedy_output = model.generate(\n",
        "        input_ids,\n",
        "        attention_mask=attention_mask,\n",
        "        max_length=max_length,\n",
        "        do_sample=False,\n",
        "        pad_token_id=tokenizer.eos_token_id\n",
        "    )\n",
        "    greedy_text = tokenizer.decode(greedy_output[0], skip_special_tokens=True)\n",
        "\n",
        "    # Top-k 샘플링\n",
        "    topk_texts = []\n",
        "    for k in top_k_values:\n",
        "        topk_output = model.generate(\n",
        "            input_ids,\n",
        "            attention_mask=attention_mask,\n",
        "            max_length=max_length,\n",
        "            do_sample=True,\n",
        "            top_k=k,\n",
        "            pad_token_id=tokenizer.eos_token_id\n",
        "        )\n",
        "        topk_text = tokenizer.decode(topk_output[0], skip_special_tokens=True)\n",
        "        topk_texts.append(topk_text)\n",
        "\n",
        "    results.append([prompt, greedy_text] + topk_texts)"
      ],
      "metadata": {
        "id": "mI5Bs2bVwdSk"
      },
      "execution_count": 12,
      "outputs": []
    },
    {
      "cell_type": "markdown",
      "source": [
        "- do_sample=False → Greedy\n",
        "\n",
        "- do_sample=True + top_k=k → Top-k 샘플링"
      ],
      "metadata": {
        "id": "Fi6SD98svgHp"
      }
    },
    {
      "cell_type": "code",
      "source": [
        "# 5. 결과 DataFrame\n",
        "columns = [\"Prompt\", \"Greedy\"] + [f\"Top-k ({k})\" for k in top_k_values]\n",
        "df = pd.DataFrame(results, columns=columns)\n",
        "print(df)"
      ],
      "metadata": {
        "colab": {
          "base_uri": "https://localhost:8080/"
        },
        "id": "Gkzs1w3NweGA",
        "outputId": "a90025ca-ed37-4982-d3aa-e2635152a48a"
      },
      "execution_count": 13,
      "outputs": [
        {
          "output_type": "stream",
          "name": "stdout",
          "text": [
            "                Prompt                                             Greedy  \\\n",
            "0     Once upon a time  Once upon a time, the world was a place of gre...   \n",
            "1  In a distant future  In a distant future, the world would be a bett...   \n",
            "2   The scientist said  The scientist said the study was \"a very impor...   \n",
            "\n",
            "                                          Top-k (50)  \\\n",
            "0  Once upon a time, with great reluctance, I sho...   \n",
            "1  In a distant future when the earth was filled ...   \n",
            "2  The scientist said the new technique would hel...   \n",
            "\n",
            "                                         Top-k (100)  \n",
            "0  Once upon a time, with the sun's aid we found ...  \n",
            "1  In a distant future, those looking to set up s...  \n",
            "2  The scientist said: 'Saving the world from a d...  \n"
          ]
        }
      ]
    },
    {
      "cell_type": "markdown",
      "source": [
        "- DataFrame으로 만들어서 각 프롬프트마다 Greedy와 Top-k 결과 비교"
      ],
      "metadata": {
        "id": "9rfNsv2kw8sk"
      }
    },
    {
      "cell_type": "code",
      "source": [
        "# 6. 시각화\n",
        "df['Greedy_len'] = df['Greedy'].apply(lambda x: len(x.split()))\n",
        "df['Topk50_len'] = df['Top-k (50)'].apply(lambda x: len(x.split()))\n",
        "df['Topk100_len'] = df['Top-k (100)'].apply(lambda x: len(x.split()))\n",
        "\n",
        "x = range(len(df))\n",
        "width = 0.25\n",
        "\n",
        "plt.figure(figsize=(10,5))\n",
        "plt.bar([i - width for i in x], df['Greedy_len'], width=width, label='Greedy', color='skyblue')\n",
        "plt.bar(x, df['Topk50_len'], width=width, label='Top-k 50', color='orange')\n",
        "plt.bar([i + width for i in x], df['Topk100_len'], width=width, label='Top-k 100', color='green')\n",
        "\n",
        "plt.xticks(x, df['Prompt'], rotation=20)\n",
        "plt.ylabel(\"Generated Sentence Length (words)\")\n",
        "plt.title(\"Sentence Length Comparison: Greedy vs Top-k\")\n",
        "plt.legend()\n",
        "plt.tight_layout()\n",
        "plt.show()"
      ],
      "metadata": {
        "colab": {
          "base_uri": "https://localhost:8080/",
          "height": 507
        },
        "id": "rqXQuRCdxGsz",
        "outputId": "9c02f23a-77db-44d6-9ee0-8ed496b4a55d"
      },
      "execution_count": 15,
      "outputs": [
        {
          "output_type": "display_data",
          "data": {
            "text/plain": [
              "<Figure size 1000x500 with 1 Axes>"
            ],
            "image/png": "[encoded data removed]"
          },
          "metadata": {}
        }
      ]
    },
    {
      "cell_type": "markdown",
      "source": [
        "## 🧪 실험 결과 요약\n",
        "| 프롬프트                | Greedy 문장 길이 | Top-k (50) 문장 길이 | Top-k (100) 문장 길이 | 특징 요약                                        |\n",
        "| ------------------- | ------------ | ---------------- | ----------------- | -------------------------------------------- |\n",
        "| Once upon a time    | 약 12 단어      | 약 18 단어          | 약 20 단어           | Greedy: 안정적, 반복적<br>Top-k: 다양성 ↑, 내용 조금 더 확장 |\n",
        "| In a distant future | 약 14 단어      | 약 16 단어          | 약 19 단어           | Top-k: k 증가 → 문장 길이 및 다양성 증가                 |\n",
        "| The scientist said  | 약 13 단어      | 약 17 단어          | 약 21 단어           | Top-k: 표현 다양성 ↑, Greedy: 상대적으로 단순            |\n",
        "\n",
        "\n",
        "- 문장 길이:\n",
        "  - Top-k 샘플링이 Greedy보다 전체적으로 길이가 길어짐\n",
        "\n",
        "  - k값이 클수록 문장 길이가 증가하는 경향\n",
        "- 문장 다양성:\n",
        "\n",
        "  - Greedy: 반복적이고 예측 가능한 패턴\n",
        "\n",
        "  - Top-k: 문장이 더 다양하고 창의적, 예측 불가능한 단어 선택 존재\n",
        "\n",
        "- Top-k k값 변화:\n",
        "\n",
        "  - k가 커질수록 문장 구조와 단어 선택 다양성 증가\n",
        "\n",
        "  - 너무 크면 문장 길이가 길어지고 때로는 문맥 일관성 낮아짐\n",
        "\n",
        "## 🎯 실험 결론\n",
        "\n",
        "1. Greedy 샘플링: 안정적이지만 반복적, 다양성 낮음\n",
        "\n",
        "2. Top-k 샘플링: 문장 다양성 증가, k값이 클수록 창의적이지만 문맥 유지 어려움\n",
        "\n",
        "3. 적정 k값 선택: k=50~100 정도가 문장 길이와 다양성 균형이 적절"
      ],
      "metadata": {
        "id": "C6Dl7mpmxwKy"
      }
    }
  ]
}